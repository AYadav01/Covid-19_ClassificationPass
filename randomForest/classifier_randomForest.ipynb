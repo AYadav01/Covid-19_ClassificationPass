{
 "cells": [
  {
   "cell_type": "code",
   "execution_count": 1,
   "metadata": {},
   "outputs": [],
   "source": [
    "import numpy as np\n",
    "from collections import Counter\n",
    "import pandas as pd\n",
    "import random\n",
    "from sklearn.utils import shuffle\n",
    "from sklearn.preprocessing import StandardScaler\n",
    "from sklearn.decomposition import PCA\n",
    "from sklearn.metrics import confusion_matrix\n",
    "from sklearn.metrics import roc_curve\n",
    "from sklearn.metrics import roc_auc_score\n",
    "from sklearn.metrics import classification_report\n",
    "import matplotlib.pyplot as plt\n",
    "from sklearn.metrics import precision_recall_curve\n",
    "from sklearn.metrics import f1_score\n",
    "from sklearn.metrics import auc"
   ]
  },
  {
   "cell_type": "markdown",
   "metadata": {},
   "source": [
    "#### Define the Decision Tree structure"
   ]
  },
  {
   "cell_type": "code",
   "execution_count": 2,
   "metadata": {},
   "outputs": [],
   "source": [
    "def entropy(y):\n",
    "    hist = np.bincount(y)\n",
    "    ps = hist / len(y)\n",
    "    return -np.sum([p * np.log2(p) for p in ps if p > 0])\n",
    "\n",
    "class TreeNode:\n",
    "    def __init__(self, feature=None, threshold=None, left=None, right=None, *, value=None):\n",
    "        self.feature = feature\n",
    "        self.threshold = threshold\n",
    "        self.left = left\n",
    "        self.right = right\n",
    "        self.value = value\n",
    "\n",
    "    def is_leaf_node(self):\n",
    "        return self.value is not None\n",
    "\n",
    "class DecisionTree:\n",
    "    def __init__(self, min_samples_split=2, max_depth=100, n_feats=None):\n",
    "        self.min_samples_split = min_samples_split\n",
    "        self.max_depth = max_depth\n",
    "        self.n_feats = n_feats\n",
    "        self.root = None\n",
    "\n",
    "    def fit(self, X, y):\n",
    "        self.n_feats = X.shape[1] if not self.n_feats else min(self.n_feats, X.shape[1])\n",
    "        self.root = self._grow_tree(X, y)\n",
    "\n",
    "    def predict(self, X):\n",
    "        return np.array([self._traverse_tree(x, self.root) for x in X])\n",
    "\n",
    "    def _grow_tree(self, X, y, depth=0):\n",
    "        n_samples, n_features = X.shape\n",
    "        n_labels = len(np.unique(y))\n",
    "\n",
    "        # Base criteria that stops recursion\n",
    "        if (depth >= self.max_depth\n",
    "                or n_labels == 1\n",
    "                or n_samples < self.min_samples_split):\n",
    "            leaf_value = self._most_common_label(y)\n",
    "            return TreeNode(value=leaf_value)\n",
    "\n",
    "        feat_idxs = np.random.choice(n_features, self.n_feats, replace=False)\n",
    "\n",
    "        # Select the best split with information gain\n",
    "        best_feat, best_thresh = self._best_criteria(X, y, feat_idxs)\n",
    "        \n",
    "        # grow childNodes from split\n",
    "        left_idxs, right_idxs = self._split(X[:, best_feat], best_thresh)\n",
    "        left = self._grow_tree(X[left_idxs, :], y[left_idxs], depth+1)\n",
    "        right = self._grow_tree(X[right_idxs, :], y[right_idxs], depth+1)\n",
    "        return TreeNode(best_feat, best_thresh, left, right)\n",
    "\n",
    "    def _best_criteria(self, X, y, feat_idxs):\n",
    "        best_gain = -1\n",
    "        split_idx, split_thresh = None, None\n",
    "        for feat_idx in feat_idxs:\n",
    "            X_column = X[:, feat_idx]\n",
    "            thresholds = np.unique(X_column)\n",
    "            for threshold in thresholds:\n",
    "                gain = self._information_gain(y, X_column, threshold)\n",
    "\n",
    "                if gain > best_gain:\n",
    "                    best_gain = gain\n",
    "                    split_idx = feat_idx\n",
    "                    split_thresh = threshold\n",
    "\n",
    "        return split_idx, split_thresh\n",
    "\n",
    "    def _information_gain(self, y, X_column, split_thresh):\n",
    "        # parent loss\n",
    "        parent_entropy = entropy(y)\n",
    "\n",
    "        # Generate split indexes\n",
    "        left_idxs, right_idxs = self._split(X_column, split_thresh)\n",
    "\n",
    "        if len(left_idxs) == 0 or len(right_idxs) == 0:\n",
    "            return 0\n",
    "\n",
    "        # compute the weighted average of loss for children\n",
    "        n = len(y)\n",
    "        n_l, n_r = len(left_idxs), len(right_idxs)\n",
    "        e_l, e_r = entropy(y[left_idxs]), entropy(y[right_idxs])\n",
    "        child_entropy = (n_l / n) * e_l + (n_r / n) * e_r\n",
    "        ig = parent_entropy - child_entropy\n",
    "        return ig\n",
    "\n",
    "    def _split(self, X_column, split_thresh):\n",
    "        left_idxs = np.argwhere(X_column <= split_thresh).flatten()\n",
    "        right_idxs = np.argwhere(X_column > split_thresh).flatten()\n",
    "        return left_idxs, right_idxs\n",
    "\n",
    "    def _traverse_tree(self, x, node):\n",
    "        if node.is_leaf_node():\n",
    "            return node.value\n",
    "\n",
    "        if x[node.feature] <= node.threshold:\n",
    "            return self._traverse_tree(x, node.left)\n",
    "        return self._traverse_tree(x, node.right)\n",
    "\n",
    "    def _most_common_label(self, y):\n",
    "        counter = Counter(y)\n",
    "        most_common = counter.most_common(1)[0][0]\n",
    "        return most_common"
   ]
  },
  {
   "cell_type": "markdown",
   "metadata": {},
   "source": [
    "#### Define the Random Forest structure"
   ]
  },
  {
   "cell_type": "code",
   "execution_count": 3,
   "metadata": {},
   "outputs": [],
   "source": [
    "def sample(X, y):\n",
    "    n_samples = X.shape[0]\n",
    "    idxs = np.random.choice(n_samples, n_samples, replace=True)\n",
    "    return X[idxs], y[idxs]\n",
    "\n",
    "def most_common_label(y):\n",
    "    \"\"\"\n",
    "    Returns the common labels in a sample\n",
    "    \"\"\"\n",
    "    counter = Counter(y)\n",
    "    most_common = counter.most_common(1)[0][0]\n",
    "    return most_common\n",
    "\n",
    "class RandomForest:\n",
    "    def __init__(self, n_trees=10, min_samples_split=2,\n",
    "                 max_depth=100, n_feats=None):\n",
    "        self.n_trees = n_trees\n",
    "        self.min_samples_split = min_samples_split\n",
    "        self.max_depth = max_depth\n",
    "        self.n_feats = n_feats\n",
    "        self.trees = []\n",
    "\n",
    "    def fit(self, X, y):\n",
    "        self.trees = []\n",
    "        for _ in range(self.n_trees):\n",
    "            tree = DecisionTree(min_samples_split=self.min_samples_split,\n",
    "                max_depth=self.max_depth, n_feats=self.n_feats)\n",
    "            X_samp, y_samp = sample(X, y)\n",
    "            tree.fit(X_samp, y_samp)\n",
    "            self.trees.append(tree)\n",
    "\n",
    "    def predict(self, X):\n",
    "        tree_preds = np.array([tree.predict(X) for tree in self.trees])\n",
    "        tree_preds = np.swapaxes(tree_preds, 0, 1)\n",
    "        y_pred = [most_common_label(tree_pred) for tree_pred in tree_preds]\n",
    "        return np.array(y_pred)"
   ]
  },
  {
   "cell_type": "markdown",
   "metadata": {},
   "source": [
    "#### Data Processing"
   ]
  },
  {
   "cell_type": "code",
   "execution_count": 4,
   "metadata": {},
   "outputs": [],
   "source": [
    "NUMBER_OF_TREES = 5\n",
    "MAX_DEPTH = 10\n",
    "NUMBER_OF_SAMPLES = 6000\n",
    "TEST_SPLIT = 0.2\n",
    "PCA_VARIANCE = 0.99\n",
    "\n",
    "def scale(train_x, test_x):\n",
    "    \"\"\"\n",
    "    Applies Scaler transformations to input arrays\n",
    "    \"\"\"\n",
    "    scaler = StandardScaler()\n",
    "    scaler.fit(train_x)\n",
    "    train_x = scaler.transform(train_x)\n",
    "    test_x = scaler.transform(test_x)\n",
    "    return train_x, test_x\n",
    "\n",
    "def pca_features(train_x, test_x):\n",
    "    \"\"\"\n",
    "    Reduces input dimensions of arrays\n",
    "    \"\"\"\n",
    "    # Make an instance of the Model\n",
    "    pca = PCA(PCA_VARIANCE)\n",
    "    pca.fit(train_x)\n",
    "    train_x = pca.transform(train_x)\n",
    "    test_x = pca.transform(test_x)\n",
    "    return train_x, test_x\n",
    "\n",
    "def train_test_split(df, test_size):\n",
    "    \"\"\"\n",
    "    Creates a test and train dataframe split\n",
    "    \"\"\"\n",
    "    if isinstance(test_size, float):\n",
    "        test_size = round(test_size * len(df))\n",
    "\n",
    "    indices = df.index.tolist()\n",
    "    test_indices = random.sample(population=indices, k=test_size)\n",
    "    test_df = df.loc[test_indices]\n",
    "    train_df = df.drop(test_indices)\n",
    "    return train_df, test_df\n",
    "\n",
    "def preprocess_data(df, shuffle_rows=None):\n",
    "    \"\"\"\n",
    "    Applies necessary processing steps before passed on to the model\n",
    "    \"\"\"\n",
    "    if type(df) == str:\n",
    "        df = pd.read_csv(df)\n",
    "        # Look for 'slice_id' column along the rows and remove it\n",
    "        df = df.drop(\"slice_id\", axis=1)\n",
    "        \n",
    "    if shuffle_rows and isinstance(shuffle_rows, int):\n",
    "        for i in range(shuffle_rows):\n",
    "            df = shuffle(df)\n",
    "            \n",
    "    # Limit the number of rows for using in training\n",
    "    df = df.iloc[0:NUMBER_OF_SAMPLES]\n",
    "    train_df, test_df = train_test_split(df, test_size=TEST_SPLIT)\n",
    "    # Extract the training and testing values\n",
    "    train_values, test_values = train_df.values, test_df.values\n",
    "    train_val = train_values[:,1:-1]\n",
    "    test_val = test_values[:, 1:-1]\n",
    "    # Extract the labels\n",
    "    train_label, test_label = train_values[:,-1].astype('int32'), test_values[:,-1].astype('int32')\n",
    "    # Get scaled value\n",
    "    train_x, test_x = scale(train_val, test_val)\n",
    "    # Reduce Dimension\n",
    "    train_x, test_x = pca_features(train_x, test_x)\n",
    "    return train_x, train_label, test_x, test_label"
   ]
  },
  {
   "cell_type": "markdown",
   "metadata": {},
   "source": [
    "### Normal vs. Abnormal Classification"
   ]
  },
  {
   "cell_type": "code",
   "execution_count": 15,
   "metadata": {},
   "outputs": [],
   "source": [
    "path_to_csv = \"C:\\\\Users\\\\mail2\\\\OneDrive\\\\Desktop\\\\Projects\\\\covid_projects\\\\decision_tree\\\\normal_abnormal.csv\"\n",
    "train_x, train_label, test_x, test_label = preprocess_data(path_to_csv, 4)\n",
    "\n",
    "# Fit the classifier\n",
    "model = RandomForest(n_trees=NUMBER_OF_TREES, max_depth=MAX_DEPTH)\n",
    "model.fit(train_x, train_label)"
   ]
  },
  {
   "cell_type": "markdown",
   "metadata": {},
   "source": [
    "#### Evaluation Metrics"
   ]
  },
  {
   "cell_type": "code",
   "execution_count": 81,
   "metadata": {},
   "outputs": [],
   "source": [
    "y_prediction = model.predict(test_x)"
   ]
  },
  {
   "cell_type": "code",
   "execution_count": 111,
   "metadata": {},
   "outputs": [
    {
     "name": "stdout",
     "output_type": "stream",
     "text": [
      "Validation Accuracy: 0.813333\n",
      "============================================================\n",
      "Confusion Matrix\n",
      "-----------\n",
      "[[607  99]\n",
      " [125 369]]\n",
      "============================================================\n",
      "              precision    recall  f1-score   support\n",
      "\n",
      "      Normal       0.83      0.86      0.84       706\n",
      "   Pneumonia       0.79      0.75      0.77       494\n",
      "\n",
      "    accuracy                           0.81      1200\n",
      "   macro avg       0.81      0.80      0.81      1200\n",
      "weighted avg       0.81      0.81      0.81      1200\n",
      "\n"
     ]
    }
   ],
   "source": [
    "def accuracy(y_true, y_pred):\n",
    "    accuracy = np.sum(y_true == y_pred) / len(y_true)\n",
    "    return accuracy\n",
    "\n",
    "cm = confusion_matrix(test_label, y_prediction)\n",
    "model_acc = accuracy(test_label, y_prediction)\n",
    "print(\"Validation Accuracy: {:.6f}\".format(model_acc))\n",
    "print(\"=\"*60)\n",
    "print(\"Confusion Matrix\\n-----------\\n{}\".format(cm))\n",
    "print(\"=\"*60)\n",
    "target_names = ['Normal', 'Pneumonia']\n",
    "print(classification_report(test_label, y_prediction, target_names=target_names))"
   ]
  },
  {
   "cell_type": "code",
   "execution_count": 108,
   "metadata": {},
   "outputs": [
    {
     "name": "stdout",
     "output_type": "stream",
     "text": [
      "[2 1 0]\n",
      "AUC: 0.803\n"
     ]
    },
    {
     "data": {
      "text/plain": [
       "<matplotlib.legend.Legend at 0x1eac02daa20>"
      ]
     },
     "execution_count": 108,
     "metadata": {},
     "output_type": "execute_result"
    },
    {
     "data": {
      "image/png": "[encoded data removed]",
      "text/plain": [
       "<Figure size 432x288 with 1 Axes>"
      ]
     },
     "metadata": {},
     "output_type": "display_data"
    }
   ],
   "source": [
    "fpr, tpr, thresholds = roc_curve(test_label, y_prediction)\n",
    "print(thresholds)\n",
    "\n",
    "auc = roc_auc_score(test_label, y_prediction)\n",
    "print('AUC: %.3f' % auc)"
   ]
  },
  {
   "cell_type": "code",
   "execution_count": 106,
   "metadata": {},
   "outputs": [
    {
     "data": {
      "image/png": "[encoded data removed]",
      "text/plain": [
       "<Figure size 360x360 with 1 Axes>"
      ]
     },
     "metadata": {},
     "output_type": "display_data"
    }
   ],
   "source": [
    "from plot_metric.functions import BinaryClassification\n",
    "# Visualisation with plot_metric\n",
    "bc = BinaryClassification(test_label, y_prediction, labels=[\"Normal\", \"Pneumonia\"])\n",
    "\n",
    "# Figures\n",
    "plt.figure(figsize=(5,5))\n",
    "bc.plot_roc_curve()\n",
    "plt.show()"
   ]
  },
  {
   "cell_type": "markdown",
   "metadata": {},
   "source": [
    "### Covid vs. Pneumonia Classification"
   ]
  },
  {
   "cell_type": "code",
   "execution_count": 5,
   "metadata": {},
   "outputs": [
    {
     "name": "stdout",
     "output_type": "stream",
     "text": [
      "0       0\n",
      "1       0\n",
      "2       0\n",
      "3       0\n",
      "4       0\n",
      "       ..\n",
      "5317    1\n",
      "5318    1\n",
      "5319    1\n",
      "5320    1\n",
      "5321    1\n",
      "Name: label, Length: 5322, dtype: int64\n"
     ]
    },
    {
     "data": {
      "image/png": "[encoded data removed]",
      "text/plain": [
       "<Figure size 432x288 with 1 Axes>"
      ]
     },
     "metadata": {
      "needs_background": "light"
     },
     "output_type": "display_data"
    }
   ],
   "source": [
    "path_to_csv = \"C:\\\\Users\\\\mail2\\\\OneDrive\\\\Desktop\\\\Projects\\\\covid_projects\\\\decision_tree\\\\pn_covid.csv\"\n",
    "train = pd.read_csv(path_to_csv)\n",
    "\n",
    "# Gives a list of columns after dropping the included two\n",
    "labels = train.columns.drop(['slice_id', 'label'])\n",
    "target = train['label'] # Get the target values\n",
    "print(target)\n",
    "\n",
    "# See the class difference\n",
    "train['label'].value_counts().plot(kind='bar', title='Count (target)');"
   ]
  },
  {
   "cell_type": "markdown",
   "metadata": {},
   "source": [
    "**Balance** the **dataset** with **synthetic samples (SMOTE)**\n",
    "- **Perform** an **oversampling**, which **consists** of **creating new samples** to **increase** the **minority class**. \n",
    "- **SMOTE (Synthetic Minority Oversampling TEchnique)** consists of **synthesizing elements** for the **minority class**, based on **those** that **already exist**.\n",
    "    - It **works randomly** picking a **point** from the **minority class** and **computing** the **k-nearest neighbors** for **this point**. The **synthetic points** are **added** between the **chosen point** and **its neighbors**."
   ]
  },
  {
   "cell_type": "code",
   "execution_count": 6,
   "metadata": {},
   "outputs": [
    {
     "name": "stderr",
     "output_type": "stream",
     "text": [
      "Using TensorFlow backend.\n"
     ]
    },
    {
     "data": {
      "image/png": "[encoded data removed]",
      "text/plain": [
       "<Figure size 432x288 with 1 Axes>"
      ]
     },
     "metadata": {
      "needs_background": "light"
     },
     "output_type": "display_data"
    }
   ],
   "source": [
    "from imblearn.over_sampling import SMOTE\n",
    "\n",
    "smote = SMOTE(sampling_strategy='minority', n_jobs=-1)\n",
    "x_sm, y_sm = smote.fit_resample(train[labels], train['label'])\n",
    "df = pd.DataFrame(x_sm, columns=labels)\n",
    "\n",
    "df['label'] = y_sm\n",
    "df['label'].value_counts().plot(kind='bar', title='Count (label)');"
   ]
  },
  {
   "cell_type": "code",
   "execution_count": 7,
   "metadata": {},
   "outputs": [],
   "source": [
    "train_x, train_label, test_x, test_label = preprocess_data(df, 4)"
   ]
  },
  {
   "cell_type": "code",
   "execution_count": 8,
   "metadata": {},
   "outputs": [],
   "source": [
    "# Fit the classifier\n",
    "model = RandomForest(n_trees=NUMBER_OF_TREES, max_depth=MAX_DEPTH)\n",
    "model.fit(train_x, train_label)"
   ]
  },
  {
   "cell_type": "markdown",
   "metadata": {},
   "source": [
    "#### Evaluation Metrics"
   ]
  },
  {
   "cell_type": "code",
   "execution_count": 9,
   "metadata": {},
   "outputs": [
    {
     "name": "stdout",
     "output_type": "stream",
     "text": [
      "Validation Accuracy: 0.988333\n",
      "============================================================\n",
      "Confusion Matrix\n",
      "-----------\n",
      "[[561   7]\n",
      " [  7 625]]\n",
      "============================================================\n",
      "              precision    recall  f1-score   support\n",
      "\n",
      "      Normal       0.99      0.99      0.99       568\n",
      "   Pneumonia       0.99      0.99      0.99       632\n",
      "\n",
      "    accuracy                           0.99      1200\n",
      "   macro avg       0.99      0.99      0.99      1200\n",
      "weighted avg       0.99      0.99      0.99      1200\n",
      "\n"
     ]
    }
   ],
   "source": [
    "y_prediction = model.predict(test_x)\n",
    "\n",
    "def accuracy(y_true, y_pred):\n",
    "    accuracy = np.sum(y_true == y_pred) / len(y_true)\n",
    "    return accuracy\n",
    "\n",
    "cm = confusion_matrix(test_label, y_prediction)\n",
    "model_acc = accuracy(test_label, y_prediction)\n",
    "print(\"Validation Accuracy: {:.6f}\".format(model_acc))\n",
    "print(\"=\"*60) \n",
    "print(\"Confusion Matrix\\n-----------\\n{}\".format(cm))\n",
    "print(\"=\"*60)\n",
    "target_names = ['Normal', 'Pneumonia']\n",
    "print(classification_report(test_label, y_prediction, target_names=target_names))"
   ]
  },
  {
   "cell_type": "code",
   "execution_count": 10,
   "metadata": {},
   "outputs": [
    {
     "name": "stdout",
     "output_type": "stream",
     "text": [
      "[2 1 0]\n",
      "AUC: 0.988\n"
     ]
    }
   ],
   "source": [
    "fpr, tpr, thresholds = roc_curve(test_label, y_prediction)\n",
    "print(thresholds)\n",
    "\n",
    "auc = roc_auc_score(test_label, y_prediction)\n",
    "print('AUC: %.3f' % auc)"
   ]
  },
  {
   "cell_type": "code",
   "execution_count": 11,
   "metadata": {},
   "outputs": [
    {
     "data": {
      "image/png": "[encoded data removed]",
      "text/plain": [
       "<Figure size 360x360 with 1 Axes>"
      ]
     },
     "metadata": {},
     "output_type": "display_data"
    }
   ],
   "source": [
    "from plot_metric.functions import BinaryClassification\n",
    "# Visualisation with plot_metric\n",
    "bc = BinaryClassification(test_label, y_prediction, labels=[\"Normal\", \"Pneumonia\"])\n",
    "\n",
    "# Figures\n",
    "plt.figure(figsize=(5,5))\n",
    "bc.plot_roc_curve()\n",
    "plt.show()"
   ]
  }
 ],
 "metadata": {
  "kernelspec": {
   "display_name": "Python 3",
   "language": "python",
   "name": "python3"
  },
  "language_info": {
   "codemirror_mode": {
    "name": "ipython",
    "version": 3
   },
   "file_extension": ".py",
   "mimetype": "text/x-python",
   "name": "python",
   "nbconvert_exporter": "python",
   "pygments_lexer": "ipython3",
   "version": "3.7.0"
  }
 },
 "nbformat": 4,
 "nbformat_minor": 4
}
