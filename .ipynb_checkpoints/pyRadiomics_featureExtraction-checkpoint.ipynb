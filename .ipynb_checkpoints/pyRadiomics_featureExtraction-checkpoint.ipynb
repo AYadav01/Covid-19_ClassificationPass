{
 "cells": [
  {
   "cell_type": "code",
   "execution_count": 45,
   "metadata": {},
   "outputs": [],
   "source": [
    "import collections\n",
    "import SimpleITK as sitk\n",
    "import six\n",
    "import radiomics\n",
    "from radiomics import firstorder, glcm, imageoperations, shape, glrlm, glszm, gldm\n",
    "import os\n",
    "from os import listdir\n",
    "from os.path import isfile, join\n",
    "from skimage import io\n",
    "import csv\n",
    "from skimage.color import rgb2gray\n",
    "from skimage.transform import resize\n",
    "import matplotlib.pyplot as plt\n",
    "from sklearn.model_selection import train_test_split\n",
    "import numpy as np\n",
    "from skimage.measure import label\n",
    "from skimage import measure\n",
    "from tqdm import tqdm\n",
    "import statistics as st\n",
    "import logging\n",
    "import cv2\n",
    "# set level for all classes\n",
    "logger = logging.getLogger(\"radiomics\")\n",
    "logger.setLevel(logging.ERROR)\n",
    "# ... or set level for specific class\n",
    "logger = logging.getLogger(\"radiomics.glcm\")\n",
    "logger.setLevel(logging.ERROR)"
   ]
  },
  {
   "cell_type": "code",
   "execution_count": 53,
   "metadata": {},
   "outputs": [],
   "source": [
    "def tqdm_enumerate(iterator):\n",
    "    i = 0\n",
    "    for y in tqdm(iterator):\n",
    "        yield i,y\n",
    "        i += 1\n",
    "\n",
    "image_path = \"path_to_images\"\n",
    "mask_path = \"path_to_masks\"\n",
    "img_path = [os.path.join(image_path, f) for f in listdir(image_path) if isfile(join(image_path, f))]\n",
    "mask_path = [os.path.join(mask_path, f) for f in listdir(mask_path) if isfile(join(mask_path, f))]"
   ]
  },
  {
   "cell_type": "code",
   "execution_count": 51,
   "metadata": {},
   "outputs": [],
   "source": [
    "\"\"\"\n",
    "Helper function, returns class features based on input class category\n",
    "\"\"\"\n",
    "def get_extractor(img, mask, settings, name=None):\n",
    "    if name:\n",
    "        features = {\"first_order\": firstorder.RadiomicsFirstOrder(img, mask, **settings),\n",
    "                    \"glcm\": glcm.RadiomicsGLCM(img, mask, **settings),\n",
    "                    \"glrm\": glrlm.RadiomicsGLRLM(img, mask, **settings),\n",
    "                    \"glszm\": glszm.RadiomicsGLSZM(img, mask, **settings),\n",
    "                    \"gldm\": gldm.RadiomicsGLDM(img, mask, **settings)\n",
    "                   }\n",
    "        return features[name]\n",
    "\n",
    "\"\"\"\n",
    "Function extracts the class level pyRadiomics features\n",
    "\"\"\"\n",
    "def extract_features(img, mask, classes, settings, fileName, writeHeader=False):\n",
    "    # Crop the image to correspond to the mask\n",
    "    try:\n",
    "        bb, correctedMask = imageoperations.checkMask(img, mask, label=1)\n",
    "        if correctedMask is not None:\n",
    "            mask = correctedMask     \n",
    "        croppedImage, croppedMask = imageoperations.cropToTumorMask(img, mask, bb)\n",
    "        header, values = [], []\n",
    "        if writeHeader:\n",
    "            header.append(\"slice_id\")\n",
    "        values.append(str(fileName))\n",
    "        for index, arg in enumerate(classes):\n",
    "            feature = get_extractor(croppedImage, croppedMask, settings, arg)\n",
    "            feature.enableAllFeatures()\n",
    "            result = feature.execute()\n",
    "            #Writing to File\n",
    "            for (key, val) in six.iteritems(result):\n",
    "                if writeHeader:            \n",
    "                    header.append(str(key))\n",
    "                values.append(val.item())\n",
    "                \n",
    "        if writeHeader:\n",
    "            header.append('label') \n",
    "        # Class Label\n",
    "        values.append(1)\n",
    "    except Exception as e:\n",
    "        header, values = None, None\n",
    "        print(\"File {} skipped due to {}\".format(fileName, str(e)))\n",
    "    finally:\n",
    "        if writeHeader:\n",
    "            return header, values\n",
    "        else:\n",
    "            return values\n",
    "    \n",
    "\"\"\"\n",
    "Loads all the files, writes a CSV with pyRadiomics features\n",
    "\"\"\"\n",
    "def process_files(img_path=None, mask_path=None):\n",
    "    if img_path and mask_path:\n",
    "        # Define settings and class of features to extract\n",
    "        setting = {}\n",
    "        setting['binWidth'] =  25\n",
    "        setting['label'] = 1\n",
    "        setting['interpolator'] = 'sitkBSpline' \n",
    "        setting['resampledPixelSpacing'] = None\n",
    "        setting['weightingNorm'] = None\n",
    "        classes = [\"first_order\", \"glcm\", \"glrm\", \"glszm\"]\n",
    "        # Write to file (change the name of files according to which features to extract)\n",
    "        with open(\"normal_features.csv\", 'w', newline='') as csvfile:\n",
    "            writer = csv.writer(csvfile, delimiter=',')\n",
    "            for index, arg in tqdm_enumerate(img_path):\n",
    "                if index <= len(img_path):\n",
    "                \n",
    "                    fileName = arg.split(\"\\\\\")[-1]\n",
    "                    # Load Image\n",
    "                    img = rgb2gray(io.imread(arg))\n",
    "                    \"\"\"\n",
    "                    if img.max() > 1:\n",
    "                        img = img/255.0\n",
    "                        \n",
    "                    norm_img = np.zeros((img.shape[0], img.shape[1]))\n",
    "                    img = cv2.normalize(img,  norm_img, 0, 1, cv2.NORM_MINMAX)\n",
    "                    \"\"\"\n",
    "                    # Load Mask, make sure its not empty and area of lung > 3654 px\n",
    "                    mask = io.imread(mask_path[index])\n",
    "                    if (mask.shape[0] == img.shape[0]) and (mask.shape[1] == img.shape[1]):\n",
    "                        coords = np.where(mask != 0)\n",
    "                        # Skip if mask is blank\n",
    "                        if len(coords) > 0:\n",
    "                            label_image = label(mask)\n",
    "                            propsa = measure.regionprops(label_image)\n",
    "                            areas = [r.area for r in propsa]\n",
    "                            areas.sort()\n",
    "                            # Skip if there is only one lung\n",
    "                            if len(areas) <= 1:\n",
    "                                print(\"Lung missing for {}\".format(fileName))\n",
    "                            # Skip if mean are of lung is less than 3654 pxs\n",
    "                            if st.mean(areas) >= 3654:\n",
    "                                # If more than 2 lungs appear in the mask, we turn off the smallest area in that mask\n",
    "                                if len(areas) > 2:\n",
    "                                    for region in propsa:\n",
    "                                        if region.area < areas[-2]:\n",
    "                                            for coordinates in region.coords:\n",
    "                                                label_image[coordinates[0], coordinates[1]] = 0\n",
    "                                label_image = (label_image > 0)*1\n",
    "                                # Define image and settings for feature extraction\n",
    "                                img = sitk.GetImageFromArray(img)\n",
    "                                mask = sitk.GetImageFromArray(label_image)\n",
    "\n",
    "                                # Get the feature extraction\n",
    "                                if index == 0:\n",
    "                                    writeHeader = True\n",
    "                                    header, values = extract_features(img, mask, classes, setting, fileName, writeHeader)\n",
    "                                    if values is not None:\n",
    "                                        writer.writerow(header)\n",
    "                                        writer.writerow(values)\n",
    "                                else:\n",
    "                                    writeHeader = False\n",
    "                                    values = extract_features(img, mask, classes, setting, fileName, writeHeader)\n",
    "                                    if values is not None:\n",
    "                                        writer.writerow(values)        \n",
    "                            else:\n",
    "                                print(\"Area of Maks {} to less to process\".format(fileName))\n",
    "                                continue\n",
    "                        else:\n",
    "                            print(\"No mask found for: {}\".format(fileName))\n",
    "                            continue\n",
    "                    else:\n",
    "                        print(\"File {} skipped due to size mismatch\".format(fileName))\n",
    "                        continue\n",
    "        print(\"ALL FILES PROCESSED!\")"
   ]
  },
  {
   "cell_type": "code",
   "execution_count": 52,
   "metadata": {},
   "outputs": [
    {
     "name": "stderr",
     "output_type": "stream",
     "text": [
      "  5%|███▊                                                                         | 388/7966 [11:21<3:34:22,  1.70s/it]"
     ]
    },
    {
     "name": "stdout",
     "output_type": "stream",
     "text": [
      "Lung missing for 142c4c2d-ef83-468d-869e-fc0d72768cfb.png\n"
     ]
    },
    {
     "name": "stderr",
     "output_type": "stream",
     "text": [
      "  7%|█████▎                                                                       | 546/7966 [15:41<3:19:07,  1.61s/it]"
     ]
    },
    {
     "name": "stdout",
     "output_type": "stream",
     "text": [
      "Lung missing for 1907a293-8503-4525-8f47-370e2447385c.png\n"
     ]
    },
    {
     "name": "stderr",
     "output_type": "stream",
     "text": [
      "  9%|██████▊                                                                      | 710/7966 [20:23<2:57:52,  1.47s/it]"
     ]
    },
    {
     "name": "stdout",
     "output_type": "stream",
     "text": [
      "Lung missing for 2785e983-bdcb-4ece-8dc4-82b14d2d2b85.png\n"
     ]
    },
    {
     "name": "stderr",
     "output_type": "stream",
     "text": [
      "  9%|███████                                                                      | 727/7966 [20:47<3:09:20,  1.57s/it]"
     ]
    },
    {
     "name": "stdout",
     "output_type": "stream",
     "text": [
      "Lung missing for 2875f1b1-25d0-455a-b098-728ae2ee84ce.png\n"
     ]
    },
    {
     "name": "stderr",
     "output_type": "stream",
     "text": [
      " 12%|█████████                                                                    | 933/7966 [26:41<3:31:00,  1.80s/it]"
     ]
    },
    {
     "name": "stdout",
     "output_type": "stream",
     "text": [
      "Lung missing for 35621d68-0915-463c-b0f8-2365c6e56e11.png\n"
     ]
    },
    {
     "name": "stderr",
     "output_type": "stream",
     "text": [
      " 21%|███████████████▊                                                            | 1660/7966 [47:05<3:05:36,  1.77s/it]"
     ]
    },
    {
     "name": "stdout",
     "output_type": "stream",
     "text": [
      "Lung missing for 4b4dc3cd-331b-4318-8bee-e1506fbf9513.png\n"
     ]
    },
    {
     "name": "stderr",
     "output_type": "stream",
     "text": [
      " 33%|████████████████████████▌                                                 | 2639/7966 [1:14:06<2:34:45,  1.74s/it]"
     ]
    },
    {
     "name": "stdout",
     "output_type": "stream",
     "text": [
      "Lung missing for 6651fcff-b4af-4ab7-8c41-56ddeb931d9e.png\n"
     ]
    },
    {
     "name": "stderr",
     "output_type": "stream",
     "text": [
      " 34%|█████████████████████████                                                 | 2700/7966 [1:15:48<2:09:00,  1.47s/it]"
     ]
    },
    {
     "name": "stdout",
     "output_type": "stream",
     "text": [
      "Lung missing for 6833b49a-ee76-46ec-b620-cda72affbd4d.png\n"
     ]
    },
    {
     "name": "stderr",
     "output_type": "stream",
     "text": [
      " 35%|█████████████████████████▌                                                | 2758/7966 [1:17:28<2:31:01,  1.74s/it]"
     ]
    },
    {
     "name": "stdout",
     "output_type": "stream",
     "text": [
      "Lung missing for 69a9b1fd-3ad7-4bb2-b6a3-7540fdc34b96.png\n"
     ]
    },
    {
     "name": "stderr",
     "output_type": "stream",
     "text": [
      " 37%|███████████████████████████▏                                              | 2927/7966 [1:22:10<2:10:49,  1.56s/it]"
     ]
    },
    {
     "name": "stdout",
     "output_type": "stream",
     "text": [
      "Lung missing for 6e65ae6d-b2a2-4a2a-9890-2c7b2edd2eb2.png\n"
     ]
    },
    {
     "name": "stderr",
     "output_type": "stream",
     "text": [
      " 44%|████████████████████████████████▉                                         | 3540/7966 [1:39:13<2:19:23,  1.89s/it]"
     ]
    },
    {
     "name": "stdout",
     "output_type": "stream",
     "text": [
      "Lung missing for 7f86ef64-225c-44ba-a1ab-e4ec82945ff0.png\n"
     ]
    },
    {
     "name": "stderr",
     "output_type": "stream",
     "text": [
      " 51%|██████████████████████████████████████                                    | 4100/7966 [1:54:48<1:46:29,  1.65s/it]"
     ]
    },
    {
     "name": "stdout",
     "output_type": "stream",
     "text": [
      "Lung missing for 8eff11d0-2aa4-4033-8e25-3956bc0568b1.png\n"
     ]
    },
    {
     "name": "stderr",
     "output_type": "stream",
     "text": [
      " 58%|██████████████████████████████████████████▊                               | 4605/7966 [2:08:21<1:24:14,  1.50s/it]"
     ]
    },
    {
     "name": "stdout",
     "output_type": "stream",
     "text": [
      "Lung missing for 9bc0edbf-b5f8-4464-b499-b1af7a2ccc2a.png\n"
     ]
    },
    {
     "name": "stderr",
     "output_type": "stream",
     "text": [
      " 60%|████████████████████████████████████████████                              | 4747/7966 [2:12:13<1:29:29,  1.67s/it]"
     ]
    },
    {
     "name": "stdout",
     "output_type": "stream",
     "text": [
      "Lung missing for 9f6b73b6-14ee-42c2-bdcc-4e39a0cb137e.png\n"
     ]
    },
    {
     "name": "stderr",
     "output_type": "stream",
     "text": [
      " 61%|█████████████████████████████████████████████▎                            | 4880/7966 [2:15:52<1:03:10,  1.23s/it]"
     ]
    },
    {
     "name": "stdout",
     "output_type": "stream",
     "text": [
      "Lung missing for a35c15bf-541e-4f96-b35f-4f128b9d7843.png\n"
     ]
    },
    {
     "name": "stderr",
     "output_type": "stream",
     "text": [
      " 66%|████████████████████████████████████████████████▊                         | 5258/7966 [2:25:29<1:17:19,  1.71s/it]"
     ]
    },
    {
     "name": "stdout",
     "output_type": "stream",
     "text": [
      "Lung missing for ae14bb5d-9134-43ab-ad0a-c44c4e52bd67.png\n"
     ]
    },
    {
     "name": "stderr",
     "output_type": "stream",
     "text": [
      " 72%|██████████████████████████████████████████████████████▌                     | 5715/7966 [2:37:02<59:11,  1.58s/it]"
     ]
    },
    {
     "name": "stdout",
     "output_type": "stream",
     "text": [
      "Lung missing for bbed1677-6d08-4793-8ddc-7111cb39c0e7.png\n"
     ]
    },
    {
     "name": "stderr",
     "output_type": "stream",
     "text": [
      " 75%|█████████████████████████████████████████████████████████                   | 5984/7966 [2:44:44<55:59,  1.69s/it]"
     ]
    },
    {
     "name": "stdout",
     "output_type": "stream",
     "text": [
      "Lung missing for c4095ef6-7014-420e-a40d-3a3f711c500f.png\n"
     ]
    },
    {
     "name": "stderr",
     "output_type": "stream",
     "text": [
      " 78%|███████████████████████████████████████████████████████████▏                | 6202/7966 [2:51:04<56:55,  1.94s/it]"
     ]
    },
    {
     "name": "stdout",
     "output_type": "stream",
     "text": [
      "Lung missing for cb685e37-078e-4752-a285-e05c51c67ee4.png\n"
     ]
    },
    {
     "name": "stderr",
     "output_type": "stream",
     "text": [
      " 83%|███████████████████████████████████████████████████████████████▎            | 6640/7966 [3:03:11<32:26,  1.47s/it]"
     ]
    },
    {
     "name": "stdout",
     "output_type": "stream",
     "text": [
      "Lung missing for d94692e5-6d1e-4e0d-bda0-526e7521127c.png\n"
     ]
    },
    {
     "name": "stderr",
     "output_type": "stream",
     "text": [
      " 88%|███████████████████████████████████████████████████████████████████         | 7024/7966 [3:13:18<24:20,  1.55s/it]"
     ]
    },
    {
     "name": "stdout",
     "output_type": "stream",
     "text": [
      "Lung missing for e3a1a1c3-bb46-4ba9-aec9-7b59b96cd728.png\n"
     ]
    },
    {
     "name": "stderr",
     "output_type": "stream",
     "text": [
      " 89%|███████████████████████████████████████████████████████████████████▉        | 7122/7966 [3:15:58<26:04,  1.85s/it]"
     ]
    },
    {
     "name": "stdout",
     "output_type": "stream",
     "text": [
      "Lung missing for e5cf3d27-7462-434f-b6b5-8234bd2198ed.png\n"
     ]
    },
    {
     "name": "stderr",
     "output_type": "stream",
     "text": [
      " 91%|████████████████████████████████████████████████████████████████████▉       | 7225/7966 [3:18:44<21:31,  1.74s/it]"
     ]
    },
    {
     "name": "stdout",
     "output_type": "stream",
     "text": [
      "Lung missing for e8659b01-8820-4db5-8c93-fc377f231ae3.png\n"
     ]
    },
    {
     "name": "stderr",
     "output_type": "stream",
     "text": [
      "100%|████████████████████████████████████████████████████████████████████████████| 7966/7966 [3:39:30<00:00,  1.65s/it]"
     ]
    },
    {
     "name": "stdout",
     "output_type": "stream",
     "text": [
      "ALL FILES PROCESSED!\n"
     ]
    },
    {
     "name": "stderr",
     "output_type": "stream",
     "text": [
      "\n"
     ]
    }
   ],
   "source": [
    "process_files(img_path, mask_path)"
   ]
  }
 ],
 "metadata": {
  "kernelspec": {
   "display_name": "Python 3",
   "language": "python",
   "name": "python3"
  },
  "language_info": {
   "codemirror_mode": {
    "name": "ipython",
    "version": 3
   },
   "file_extension": ".py",
   "mimetype": "text/x-python",
   "name": "python",
   "nbconvert_exporter": "python",
   "pygments_lexer": "ipython3",
   "version": "3.7.4"
  }
 },
 "nbformat": 4,
 "nbformat_minor": 4
}
