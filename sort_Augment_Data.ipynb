{
 "cells": [
  {
   "cell_type": "markdown",
   "metadata": {},
   "source": [
    "#### Categorize Data (Normal, Pneumonia, Covid) into Seperate Folders"
   ]
  },
  {
   "cell_type": "code",
   "execution_count": 27,
   "metadata": {},
   "outputs": [],
   "source": [
    "import os\n",
    "from os import listdir\n",
    "from os.path import isfile, join\n",
    "import numpy as np\n",
    "import matplotlib.pyplot as plt\n",
    "import shutil\n",
    "from tqdm import tqdm\n",
    "import csv\n",
    "import sys\n",
    "from skimage.color import rgb2gray\n",
    "import cv2\n",
    "from skimage import io \n",
    "from skimage.transform import rotate, AffineTransform, warp\n",
    "import random\n",
    "from skimage import img_as_ubyte\n",
    "from skimage.util import random_noise"
   ]
  },
  {
   "cell_type": "code",
   "execution_count": 22,
   "metadata": {},
   "outputs": [],
   "source": [
    "path_to_xray = \"train\"\n",
    "path_to_masks = \"mask\"\n",
    "path_to_sorted = \"sorted_data\"\n",
    "label_file = \"train_split_v2.txt\"\n",
    "label_dict = {\"normal\":0, \"pneumonia\":1, \"covid-19\":2}"
   ]
  },
  {
   "cell_type": "code",
   "execution_count": 23,
   "metadata": {},
   "outputs": [],
   "source": [
    "\"\"\"\n",
    "Helper function for progress bar\n",
    "\"\"\"\n",
    "def tqdm_enumerate(iterator):\n",
    "    i = 0\n",
    "    for y in tqdm(iterator):\n",
    "        yield i, y\n",
    "        i += 1"
   ]
  },
  {
   "cell_type": "code",
   "execution_count": 1,
   "metadata": {},
   "outputs": [],
   "source": [
    "\"\"\"\n",
    "Loads a files, checks which category it belongs and puts it in a respective folder\n",
    "\"\"\"\n",
    "def find_and_sort(img=None, category=None):\n",
    "    if img and category:\n",
    "        # Build the directory path\n",
    "        actual_file_path = os.path.join(path_to_xray, img)\n",
    "        actual_mask_path = os.path.join(path_to_masks, img)\n",
    "        sorted_img_base = path_to_sorted + \"\\\\\" + category + \"\\\\img\"\n",
    "        sorted_mask_base = path_to_sorted + \"\\\\\" + category + \"\\\\mask\"\n",
    "        if not os.path.exists(sorted_img_base) or not os.path.exists(sorted_mask_base):\n",
    "            os.makedirs(sorted_img_base)\n",
    "            os.makedirs(sorted_mask_base)\n",
    "        sorted_img_path = os.path.join(sorted_img_base, img)\n",
    "        sorted_mask_path = os.path.join(sorted_mask_base, img)\n",
    "        try:\n",
    "            # Copy the files according to category\n",
    "            shutil.copy(actual_file_path, sorted_img_path)\n",
    "            shutil.copy(actual_mask_path, sorted_mask_path)\n",
    "        except Exception as e:\n",
    "            print(\"Error {} occured while copying file {}\".format(e, img))\n",
    "    else:\n",
    "        print(\"Image Path Required!\")\n",
    "\n",
    "\"\"\"\n",
    "Reads the text files containng annotations and returns a CSV files\n",
    "\"\"\"\n",
    "def read_label(file_name=None):\n",
    "    if file_name:\n",
    "        file = open(file_name, \"r\")\n",
    "        lines = file.readlines()\n",
    "        # Get count\n",
    "        covid_counter = 0\n",
    "        normal_counter = 0\n",
    "        pn_counter = 0\n",
    "        with open(\"labels.csv\", 'w', newline='') as csvfile:\n",
    "            writer = csv.writer(csvfile, delimiter=',')\n",
    "            # Write header\n",
    "            writer.writerow(['slice_id', 'type', 'label'])\n",
    "            for index, data in tqdm_enumerate(lines):\n",
    "                if index <= len(lines):\n",
    "                    try:\n",
    "                        #print(\"Processing File:\", data)\n",
    "                        # Getting file names and labels right\n",
    "                        arr = data.strip('\\n').split(\" \")\n",
    "                        if len(arr) == 2:\n",
    "                            tag, label = str(arr[0]), str(arr[1]).lower()\n",
    "                        elif len(arr) > 2:\n",
    "                            tag, label = str(arr[-2]), str(arr[-1]).lower()\n",
    "                        else:\n",
    "                            print(\"Unknown Name Format!\")\n",
    "                            continue\n",
    "\n",
    "                        if label == \"normal\":\n",
    "                            normal_counter += 1\n",
    "                        elif label == \"pneumonia\":\n",
    "                            pn_counter += 1\n",
    "                        elif label == \"covid-19\":\n",
    "                            covid_counter += 1\n",
    "                        else:\n",
    "                            print(\"Unidentied Lable Found:\", label)\n",
    "                            \n",
    "                        # Write it to file\n",
    "                        writer.writerow([tag, label, label_dict[label]])\n",
    "                        # Sort files\n",
    "                        find_and_sort(tag, label)\n",
    "                    except Exception as e:\n",
    "                        print(\"Error {} occured while processing {}\".format(data))\n",
    "                        \n",
    "        print(\"Total Cases:\\n=========\")\n",
    "        print(\"Normal:\", normal_counter)\n",
    "        print(\"Pneumonia:\", pn_counter)\n",
    "        print(\"Covid-19:\", covid_counter)"
   ]
  },
  {
   "cell_type": "code",
   "execution_count": 5,
   "metadata": {},
   "outputs": [
    {
     "name": "stderr",
     "output_type": "stream",
     "text": [
      "100%|███████████████████████████████████████████████████████████████████████████| 16576/16576 [01:54<00:00, 144.56it/s]"
     ]
    },
    {
     "name": "stdout",
     "output_type": "stream",
     "text": [
      "Total Cases:\n",
      "=========\n",
      "Normal: 7966\n",
      "Pneumonia: 8521\n",
      "Covid-19: 89\n"
     ]
    },
    {
     "name": "stderr",
     "output_type": "stream",
     "text": [
      "\n"
     ]
    }
   ],
   "source": [
    "read_label(label_file)"
   ]
  },
  {
   "cell_type": "markdown",
   "metadata": {},
   "source": [
    "#### Randomize Augmentation of Positive Samples"
   ]
  },
  {
   "cell_type": "code",
   "execution_count": 24,
   "metadata": {},
   "outputs": [],
   "source": [
    "image_path = \"C:\\\\Users\\\\AnilYadav\\\\Desktop\\\\Projects\\\\covid-19\\\\sorted_data\\\\covid-19\\\\segmented\"\n",
    "aug_path = \"C:\\\\Users\\\\AnilYadav\\\\Desktop\\\\Projects\\\\covid-19\\\\sorted_data\\\\covid-19\\\\aug_mask\""
   ]
  },
  {
   "cell_type": "code",
   "execution_count": 5,
   "metadata": {},
   "outputs": [],
   "source": [
    "#Transformation Functions\n",
    "def anticlockwise_rotation(image):\n",
    "    angle= random.randint(0,180)\n",
    "    return rotate(image, angle)\n",
    "\n",
    "def clockwise_rotation(image):\n",
    "    angle= random.randint(0,180)\n",
    "    return rotate(image, -angle)\n",
    "\n",
    "def h_flip(image):\n",
    "    return  np.fliplr(image)\n",
    "\n",
    "def v_flip(image):\n",
    "    return np.flipud(image)\n",
    "\n",
    "def add_noise(image):\n",
    "    return random_noise(image)\n",
    "\n",
    "def blur_image(image):\n",
    "    return cv2.GaussianBlur(image, (9,9),0)\n",
    "\n",
    "def warp_shift(image): \n",
    "    transform = AffineTransform(translation=(0,40))  #chose x,y values according to your convinience\n",
    "    warp_image = warp(image, transform, mode=\"wrap\")\n",
    "    return warp_image"
   ]
  },
  {
   "cell_type": "code",
   "execution_count": 6,
   "metadata": {},
   "outputs": [],
   "source": [
    "transformations = {'rotate anticlockwise': anticlockwise_rotation,\n",
    "                   'rotate clockwise': clockwise_rotation,\n",
    "                   'horizontal flip': h_flip, \n",
    "                   'vertical flip': v_flip,\n",
    "                   'adding noise': add_noise,\n",
    "                   'blurring image':blur_image\n",
    "                 } \n",
    "\n",
    "def augment_images(image_path = None, augmented_path = None, images_to_generate=3000):\n",
    "    if (image_path and augmented_path) and images_to_generate > 0:\n",
    "        img_path = [os.path.join(image_path, f) for f in listdir(image_path) if isfile(join(image_path, f))]\n",
    "        i = 0\n",
    "        for i in tqdm(range(images_to_generate)):\n",
    "            image = random.choice(img_path)\n",
    "            original_image = rgb2gray(io.imread(image))\n",
    "            transformed_image = None\n",
    "            n = 0\n",
    "            transformation_count = random.randint(1, len(transformations)) # choose random no. of transformation to apply\n",
    "            while n <= transformation_count:\n",
    "                key = random.choice(list(transformations)) # randomly choosing method to call\n",
    "                transformed_image = transformations[key](original_image)\n",
    "                n += 1\n",
    "                \n",
    "            ext = ['png', 'jpg', 'jpeg']\n",
    "            for arg in ext:\n",
    "                if arg in image:\n",
    "                    new_image_path = \"%s/aug_image_%s.%s\" % (augmented_path, i, arg)\n",
    "            #Convert an image to unsigned byte format, with values in [0, 255].\n",
    "            transformed_image = img_as_ubyte(transformed_image)  \n",
    "            cv2.imwrite(new_image_path, transformed_image) \n",
    "        print(\"All Images Augmented!\")"
   ]
  },
  {
   "cell_type": "code",
   "execution_count": 7,
   "metadata": {},
   "outputs": [
    {
     "name": "stderr",
     "output_type": "stream",
     "text": [
      "  0%|                                                                                 | 2/3000 [00:00<25:20,  1.97it/s]C:\\Users\\AnilYadav\\.conda\\envs\\lung_env\\lib\\site-packages\\skimage\\util\\dtype.py:135: UserWarning: Possible precision loss when converting from float64 to uint8\n",
      "  .format(dtypeobj_in, dtypeobj_out))\n",
      "100%|██████████████████████████████████████████████████████████████████████████████| 3000/3000 [11:45<00:00,  4.25it/s]"
     ]
    },
    {
     "name": "stdout",
     "output_type": "stream",
     "text": [
      "All Images Augmented!\n"
     ]
    },
    {
     "name": "stderr",
     "output_type": "stream",
     "text": [
      "\n"
     ]
    }
   ],
   "source": [
    "augment_images(image_path, aug_path)"
   ]
  }
 ],
 "metadata": {
  "kernelspec": {
   "display_name": "Python 3",
   "language": "python",
   "name": "python3"
  },
  "language_info": {
   "codemirror_mode": {
    "name": "ipython",
    "version": 3
   },
   "file_extension": ".py",
   "mimetype": "text/x-python",
   "name": "python",
   "nbconvert_exporter": "python",
   "pygments_lexer": "ipython3",
   "version": "3.7.4"
  }
 },
 "nbformat": 4,
 "nbformat_minor": 2
}
