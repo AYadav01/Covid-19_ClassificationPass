{
 "cells": [
  {
   "cell_type": "code",
   "execution_count": 2,
   "metadata": {},
   "outputs": [],
   "source": [
    "from tqdm import tqdm\n",
    "from skimage import io\n",
    "from skimage.transform import resize\n",
    "from skimage.color import rgb2gray\n",
    "import cv2\n",
    "import matplotlib.pyplot as plt\n",
    "import numpy as np\n",
    "import os\n",
    "import nrrd\n",
    "from sklearn.model_selection import train_test_split\n",
    "import torch\n",
    "from torch import nn\n",
    "import torch.nn.functional as F\n",
    "from sklearn.preprocessing import StandardScaler\n",
    "from torch.utils import data\n",
    "from sklearn.metrics import classification_report\n",
    "from sklearn.metrics import roc_curve\n",
    "from sklearn.metrics import roc_auc_score\n",
    "from torchvision import datasets, transforms, models"
   ]
  },
  {
   "cell_type": "markdown",
   "metadata": {},
   "source": [
    "#### Load Data"
   ]
  },
  {
   "cell_type": "code",
   "execution_count": 3,
   "metadata": {},
   "outputs": [],
   "source": [
    "x_train, header = nrrd.read(\"../processed/normal_abnormal/x_train.nrrd\")\n",
    "y_train, header = nrrd.read(\"../processed/normal_abnormal/y_train.nrrd\")\n",
    "x_valid, header = nrrd.read(\"../processed/normal_abnormal/x_valid.nrrd\")\n",
    "y_valid, header = nrrd.read(\"../processed/normal_abnormal/y_valid.nrrd\")"
   ]
  },
  {
   "cell_type": "code",
   "execution_count": 4,
   "metadata": {},
   "outputs": [],
   "source": [
    "# Transform to torch tensor\n",
    "tensor_train_x = torch.Tensor(x_train)\n",
    "tensor_train_y = torch.Tensor(y_train)\n",
    "tensor_valid_x = torch.Tensor(x_valid)\n",
    "tensor_valid_y = torch.Tensor(y_valid)\n",
    "\n",
    "trainset = data.TensorDataset(tensor_train_x, tensor_train_y)\n",
    "validset = data.TensorDataset(tensor_valid_x, tensor_valid_y)\n",
    "trainloader = data.DataLoader(trainset, batch_size=5, shuffle=True)\n",
    "validloader = data.DataLoader(validset, batch_size=5, shuffle=True)"
   ]
  },
  {
   "cell_type": "markdown",
   "metadata": {},
   "source": [
    "#### Check for CUDA"
   ]
  },
  {
   "cell_type": "code",
   "execution_count": 5,
   "metadata": {},
   "outputs": [
    {
     "name": "stdout",
     "output_type": "stream",
     "text": [
      "CUDA is available!\n"
     ]
    }
   ],
   "source": [
    "train_on_gpu = torch.cuda.is_available()\n",
    "\n",
    "if not train_on_gpu:\n",
    "    device = torch.device(\"cpu\")\n",
    "    print(\"Running on CPU\")\n",
    "else:\n",
    "    device = torch.device(\"cuda:0\")\n",
    "    print(\"CUDA is available!\")"
   ]
  },
  {
   "cell_type": "code",
   "execution_count": 6,
   "metadata": {},
   "outputs": [],
   "source": [
    "model = models.resnet18(pretrained=False)"
   ]
  },
  {
   "cell_type": "code",
   "execution_count": 7,
   "metadata": {},
   "outputs": [
    {
     "data": {
      "text/plain": [
       "ResNet(\n",
       "  (conv1): Conv2d(3, 64, kernel_size=(7, 7), stride=(2, 2), padding=(3, 3), bias=False)\n",
       "  (bn1): BatchNorm2d(64, eps=1e-05, momentum=0.1, affine=True, track_running_stats=True)\n",
       "  (relu): ReLU(inplace=True)\n",
       "  (maxpool): MaxPool2d(kernel_size=3, stride=2, padding=1, dilation=1, ceil_mode=False)\n",
       "  (layer1): Sequential(\n",
       "    (0): BasicBlock(\n",
       "      (conv1): Conv2d(64, 64, kernel_size=(3, 3), stride=(1, 1), padding=(1, 1), bias=False)\n",
       "      (bn1): BatchNorm2d(64, eps=1e-05, momentum=0.1, affine=True, track_running_stats=True)\n",
       "      (relu): ReLU(inplace=True)\n",
       "      (conv2): Conv2d(64, 64, kernel_size=(3, 3), stride=(1, 1), padding=(1, 1), bias=False)\n",
       "      (bn2): BatchNorm2d(64, eps=1e-05, momentum=0.1, affine=True, track_running_stats=True)\n",
       "    )\n",
       "    (1): BasicBlock(\n",
       "      (conv1): Conv2d(64, 64, kernel_size=(3, 3), stride=(1, 1), padding=(1, 1), bias=False)\n",
       "      (bn1): BatchNorm2d(64, eps=1e-05, momentum=0.1, affine=True, track_running_stats=True)\n",
       "      (relu): ReLU(inplace=True)\n",
       "      (conv2): Conv2d(64, 64, kernel_size=(3, 3), stride=(1, 1), padding=(1, 1), bias=False)\n",
       "      (bn2): BatchNorm2d(64, eps=1e-05, momentum=0.1, affine=True, track_running_stats=True)\n",
       "    )\n",
       "  )\n",
       "  (layer2): Sequential(\n",
       "    (0): BasicBlock(\n",
       "      (conv1): Conv2d(64, 128, kernel_size=(3, 3), stride=(2, 2), padding=(1, 1), bias=False)\n",
       "      (bn1): BatchNorm2d(128, eps=1e-05, momentum=0.1, affine=True, track_running_stats=True)\n",
       "      (relu): ReLU(inplace=True)\n",
       "      (conv2): Conv2d(128, 128, kernel_size=(3, 3), stride=(1, 1), padding=(1, 1), bias=False)\n",
       "      (bn2): BatchNorm2d(128, eps=1e-05, momentum=0.1, affine=True, track_running_stats=True)\n",
       "      (downsample): Sequential(\n",
       "        (0): Conv2d(64, 128, kernel_size=(1, 1), stride=(2, 2), bias=False)\n",
       "        (1): BatchNorm2d(128, eps=1e-05, momentum=0.1, affine=True, track_running_stats=True)\n",
       "      )\n",
       "    )\n",
       "    (1): BasicBlock(\n",
       "      (conv1): Conv2d(128, 128, kernel_size=(3, 3), stride=(1, 1), padding=(1, 1), bias=False)\n",
       "      (bn1): BatchNorm2d(128, eps=1e-05, momentum=0.1, affine=True, track_running_stats=True)\n",
       "      (relu): ReLU(inplace=True)\n",
       "      (conv2): Conv2d(128, 128, kernel_size=(3, 3), stride=(1, 1), padding=(1, 1), bias=False)\n",
       "      (bn2): BatchNorm2d(128, eps=1e-05, momentum=0.1, affine=True, track_running_stats=True)\n",
       "    )\n",
       "  )\n",
       "  (layer3): Sequential(\n",
       "    (0): BasicBlock(\n",
       "      (conv1): Conv2d(128, 256, kernel_size=(3, 3), stride=(2, 2), padding=(1, 1), bias=False)\n",
       "      (bn1): BatchNorm2d(256, eps=1e-05, momentum=0.1, affine=True, track_running_stats=True)\n",
       "      (relu): ReLU(inplace=True)\n",
       "      (conv2): Conv2d(256, 256, kernel_size=(3, 3), stride=(1, 1), padding=(1, 1), bias=False)\n",
       "      (bn2): BatchNorm2d(256, eps=1e-05, momentum=0.1, affine=True, track_running_stats=True)\n",
       "      (downsample): Sequential(\n",
       "        (0): Conv2d(128, 256, kernel_size=(1, 1), stride=(2, 2), bias=False)\n",
       "        (1): BatchNorm2d(256, eps=1e-05, momentum=0.1, affine=True, track_running_stats=True)\n",
       "      )\n",
       "    )\n",
       "    (1): BasicBlock(\n",
       "      (conv1): Conv2d(256, 256, kernel_size=(3, 3), stride=(1, 1), padding=(1, 1), bias=False)\n",
       "      (bn1): BatchNorm2d(256, eps=1e-05, momentum=0.1, affine=True, track_running_stats=True)\n",
       "      (relu): ReLU(inplace=True)\n",
       "      (conv2): Conv2d(256, 256, kernel_size=(3, 3), stride=(1, 1), padding=(1, 1), bias=False)\n",
       "      (bn2): BatchNorm2d(256, eps=1e-05, momentum=0.1, affine=True, track_running_stats=True)\n",
       "    )\n",
       "  )\n",
       "  (layer4): Sequential(\n",
       "    (0): BasicBlock(\n",
       "      (conv1): Conv2d(256, 512, kernel_size=(3, 3), stride=(2, 2), padding=(1, 1), bias=False)\n",
       "      (bn1): BatchNorm2d(512, eps=1e-05, momentum=0.1, affine=True, track_running_stats=True)\n",
       "      (relu): ReLU(inplace=True)\n",
       "      (conv2): Conv2d(512, 512, kernel_size=(3, 3), stride=(1, 1), padding=(1, 1), bias=False)\n",
       "      (bn2): BatchNorm2d(512, eps=1e-05, momentum=0.1, affine=True, track_running_stats=True)\n",
       "      (downsample): Sequential(\n",
       "        (0): Conv2d(256, 512, kernel_size=(1, 1), stride=(2, 2), bias=False)\n",
       "        (1): BatchNorm2d(512, eps=1e-05, momentum=0.1, affine=True, track_running_stats=True)\n",
       "      )\n",
       "    )\n",
       "    (1): BasicBlock(\n",
       "      (conv1): Conv2d(512, 512, kernel_size=(3, 3), stride=(1, 1), padding=(1, 1), bias=False)\n",
       "      (bn1): BatchNorm2d(512, eps=1e-05, momentum=0.1, affine=True, track_running_stats=True)\n",
       "      (relu): ReLU(inplace=True)\n",
       "      (conv2): Conv2d(512, 512, kernel_size=(3, 3), stride=(1, 1), padding=(1, 1), bias=False)\n",
       "      (bn2): BatchNorm2d(512, eps=1e-05, momentum=0.1, affine=True, track_running_stats=True)\n",
       "    )\n",
       "  )\n",
       "  (avgpool): AdaptiveAvgPool2d(output_size=(1, 1))\n",
       "  (fc): Linear(in_features=512, out_features=1000, bias=True)\n",
       ")"
      ]
     },
     "execution_count": 7,
     "metadata": {},
     "output_type": "execute_result"
    }
   ],
   "source": [
    "model"
   ]
  },
  {
   "cell_type": "code",
   "execution_count": 8,
   "metadata": {},
   "outputs": [],
   "source": [
    "classifier = nn.Sequential(nn.Linear(512, 256),\n",
    "                                 nn.ReLU(),\n",
    "                                 nn.Dropout(0.2),\n",
    "                                 nn.Linear(256, 2))"
   ]
  },
  {
   "cell_type": "code",
   "execution_count": 9,
   "metadata": {},
   "outputs": [],
   "source": [
    "model.conv1 = nn.Conv2d(1, 64, kernel_size=(7, 7), stride=(2, 2), padding=(3, 3), bias=False)\n",
    "model.fc = classifier"
   ]
  },
  {
   "cell_type": "code",
   "execution_count": 10,
   "metadata": {},
   "outputs": [
    {
     "data": {
      "text/plain": [
       "ResNet(\n",
       "  (conv1): Conv2d(1, 64, kernel_size=(7, 7), stride=(2, 2), padding=(3, 3), bias=False)\n",
       "  (bn1): BatchNorm2d(64, eps=1e-05, momentum=0.1, affine=True, track_running_stats=True)\n",
       "  (relu): ReLU(inplace=True)\n",
       "  (maxpool): MaxPool2d(kernel_size=3, stride=2, padding=1, dilation=1, ceil_mode=False)\n",
       "  (layer1): Sequential(\n",
       "    (0): BasicBlock(\n",
       "      (conv1): Conv2d(64, 64, kernel_size=(3, 3), stride=(1, 1), padding=(1, 1), bias=False)\n",
       "      (bn1): BatchNorm2d(64, eps=1e-05, momentum=0.1, affine=True, track_running_stats=True)\n",
       "      (relu): ReLU(inplace=True)\n",
       "      (conv2): Conv2d(64, 64, kernel_size=(3, 3), stride=(1, 1), padding=(1, 1), bias=False)\n",
       "      (bn2): BatchNorm2d(64, eps=1e-05, momentum=0.1, affine=True, track_running_stats=True)\n",
       "    )\n",
       "    (1): BasicBlock(\n",
       "      (conv1): Conv2d(64, 64, kernel_size=(3, 3), stride=(1, 1), padding=(1, 1), bias=False)\n",
       "      (bn1): BatchNorm2d(64, eps=1e-05, momentum=0.1, affine=True, track_running_stats=True)\n",
       "      (relu): ReLU(inplace=True)\n",
       "      (conv2): Conv2d(64, 64, kernel_size=(3, 3), stride=(1, 1), padding=(1, 1), bias=False)\n",
       "      (bn2): BatchNorm2d(64, eps=1e-05, momentum=0.1, affine=True, track_running_stats=True)\n",
       "    )\n",
       "  )\n",
       "  (layer2): Sequential(\n",
       "    (0): BasicBlock(\n",
       "      (conv1): Conv2d(64, 128, kernel_size=(3, 3), stride=(2, 2), padding=(1, 1), bias=False)\n",
       "      (bn1): BatchNorm2d(128, eps=1e-05, momentum=0.1, affine=True, track_running_stats=True)\n",
       "      (relu): ReLU(inplace=True)\n",
       "      (conv2): Conv2d(128, 128, kernel_size=(3, 3), stride=(1, 1), padding=(1, 1), bias=False)\n",
       "      (bn2): BatchNorm2d(128, eps=1e-05, momentum=0.1, affine=True, track_running_stats=True)\n",
       "      (downsample): Sequential(\n",
       "        (0): Conv2d(64, 128, kernel_size=(1, 1), stride=(2, 2), bias=False)\n",
       "        (1): BatchNorm2d(128, eps=1e-05, momentum=0.1, affine=True, track_running_stats=True)\n",
       "      )\n",
       "    )\n",
       "    (1): BasicBlock(\n",
       "      (conv1): Conv2d(128, 128, kernel_size=(3, 3), stride=(1, 1), padding=(1, 1), bias=False)\n",
       "      (bn1): BatchNorm2d(128, eps=1e-05, momentum=0.1, affine=True, track_running_stats=True)\n",
       "      (relu): ReLU(inplace=True)\n",
       "      (conv2): Conv2d(128, 128, kernel_size=(3, 3), stride=(1, 1), padding=(1, 1), bias=False)\n",
       "      (bn2): BatchNorm2d(128, eps=1e-05, momentum=0.1, affine=True, track_running_stats=True)\n",
       "    )\n",
       "  )\n",
       "  (layer3): Sequential(\n",
       "    (0): BasicBlock(\n",
       "      (conv1): Conv2d(128, 256, kernel_size=(3, 3), stride=(2, 2), padding=(1, 1), bias=False)\n",
       "      (bn1): BatchNorm2d(256, eps=1e-05, momentum=0.1, affine=True, track_running_stats=True)\n",
       "      (relu): ReLU(inplace=True)\n",
       "      (conv2): Conv2d(256, 256, kernel_size=(3, 3), stride=(1, 1), padding=(1, 1), bias=False)\n",
       "      (bn2): BatchNorm2d(256, eps=1e-05, momentum=0.1, affine=True, track_running_stats=True)\n",
       "      (downsample): Sequential(\n",
       "        (0): Conv2d(128, 256, kernel_size=(1, 1), stride=(2, 2), bias=False)\n",
       "        (1): BatchNorm2d(256, eps=1e-05, momentum=0.1, affine=True, track_running_stats=True)\n",
       "      )\n",
       "    )\n",
       "    (1): BasicBlock(\n",
       "      (conv1): Conv2d(256, 256, kernel_size=(3, 3), stride=(1, 1), padding=(1, 1), bias=False)\n",
       "      (bn1): BatchNorm2d(256, eps=1e-05, momentum=0.1, affine=True, track_running_stats=True)\n",
       "      (relu): ReLU(inplace=True)\n",
       "      (conv2): Conv2d(256, 256, kernel_size=(3, 3), stride=(1, 1), padding=(1, 1), bias=False)\n",
       "      (bn2): BatchNorm2d(256, eps=1e-05, momentum=0.1, affine=True, track_running_stats=True)\n",
       "    )\n",
       "  )\n",
       "  (layer4): Sequential(\n",
       "    (0): BasicBlock(\n",
       "      (conv1): Conv2d(256, 512, kernel_size=(3, 3), stride=(2, 2), padding=(1, 1), bias=False)\n",
       "      (bn1): BatchNorm2d(512, eps=1e-05, momentum=0.1, affine=True, track_running_stats=True)\n",
       "      (relu): ReLU(inplace=True)\n",
       "      (conv2): Conv2d(512, 512, kernel_size=(3, 3), stride=(1, 1), padding=(1, 1), bias=False)\n",
       "      (bn2): BatchNorm2d(512, eps=1e-05, momentum=0.1, affine=True, track_running_stats=True)\n",
       "      (downsample): Sequential(\n",
       "        (0): Conv2d(256, 512, kernel_size=(1, 1), stride=(2, 2), bias=False)\n",
       "        (1): BatchNorm2d(512, eps=1e-05, momentum=0.1, affine=True, track_running_stats=True)\n",
       "      )\n",
       "    )\n",
       "    (1): BasicBlock(\n",
       "      (conv1): Conv2d(512, 512, kernel_size=(3, 3), stride=(1, 1), padding=(1, 1), bias=False)\n",
       "      (bn1): BatchNorm2d(512, eps=1e-05, momentum=0.1, affine=True, track_running_stats=True)\n",
       "      (relu): ReLU(inplace=True)\n",
       "      (conv2): Conv2d(512, 512, kernel_size=(3, 3), stride=(1, 1), padding=(1, 1), bias=False)\n",
       "      (bn2): BatchNorm2d(512, eps=1e-05, momentum=0.1, affine=True, track_running_stats=True)\n",
       "    )\n",
       "  )\n",
       "  (avgpool): AdaptiveAvgPool2d(output_size=(1, 1))\n",
       "  (fc): Sequential(\n",
       "    (0): Linear(in_features=512, out_features=256, bias=True)\n",
       "    (1): ReLU()\n",
       "    (2): Dropout(p=0.2, inplace=False)\n",
       "    (3): Linear(in_features=256, out_features=2, bias=True)\n",
       "  )\n",
       ")"
      ]
     },
     "execution_count": 10,
     "metadata": {},
     "output_type": "execute_result"
    }
   ],
   "source": [
    "model.to(device)"
   ]
  },
  {
   "cell_type": "code",
   "execution_count": 11,
   "metadata": {},
   "outputs": [],
   "source": [
    "import torch.optim as optim\n",
    "criterion = nn.CrossEntropyLoss()\n",
    "optimizer = optim.SGD(model.parameters(), lr=0.001)\n",
    "scheduler = optim.lr_scheduler.ReduceLROnPlateau(optimizer, patience=3, verbose=True)"
   ]
  },
  {
   "cell_type": "markdown",
   "metadata": {},
   "source": [
    "#### Train Model"
   ]
  },
  {
   "cell_type": "code",
   "execution_count": null,
   "metadata": {},
   "outputs": [
    {
     "name": "stdout",
     "output_type": "stream",
     "text": [
      "Epoch:0\t Training Loss:2.847258\t Validation Loss: 2.196882\t Accuracy: 0.824168\n",
      "Validation loss decreased (inf --> 2.196882).  Saving model ...\n",
      "----------------------------------------\n",
      "Epoch:1\t Training Loss:2.432472\t Validation Loss: 2.099626\t Accuracy: 0.821667\n",
      "Validation loss decreased (2.196882 --> 2.099626).  Saving model ...\n",
      "----------------------------------------\n",
      "Epoch:2\t Training Loss:2.255127\t Validation Loss: 2.099445\t Accuracy: 0.820001\n",
      "Validation loss decreased (2.099626 --> 2.099445).  Saving model ...\n",
      "----------------------------------------\n",
      "Epoch:3\t Training Loss:2.195527\t Validation Loss: 1.924987\t Accuracy: 0.850834\n",
      "Validation loss decreased (2.099445 --> 1.924987).  Saving model ...\n",
      "----------------------------------------\n",
      "Epoch:4\t Training Loss:2.243267\t Validation Loss: 1.841791\t Accuracy: 0.840001\n",
      "Validation loss decreased (1.924987 --> 1.841791).  Saving model ...\n",
      "----------------------------------------\n",
      "Epoch:5\t Training Loss:2.172706\t Validation Loss: 1.908970\t Accuracy: 0.843334\n",
      "Epoch:6\t Training Loss:2.136500\t Validation Loss: 1.905346\t Accuracy: 0.836667\n",
      "Epoch:7\t Training Loss:2.167410\t Validation Loss: 1.788301\t Accuracy: 0.855001\n",
      "Validation loss decreased (1.841791 --> 1.788301).  Saving model ...\n",
      "----------------------------------------\n",
      "Epoch:8\t Training Loss:2.096297\t Validation Loss: 1.669246\t Accuracy: 0.863334\n",
      "Validation loss decreased (1.788301 --> 1.669246).  Saving model ...\n",
      "----------------------------------------\n",
      "Epoch:9\t Training Loss:2.157627\t Validation Loss: 1.784294\t Accuracy: 0.867501\n",
      "Epoch:10\t Training Loss:2.085372\t Validation Loss: 1.984928\t Accuracy: 0.826668\n",
      "Epoch:11\t Training Loss:2.046114\t Validation Loss: 1.806030\t Accuracy: 0.861668\n",
      "Epoch:12\t Training Loss:2.015934\t Validation Loss: 1.752325\t Accuracy: 0.861668\n",
      "Epoch:13\t Training Loss:2.017695\t Validation Loss: 1.790515\t Accuracy: 0.853334\n",
      "Epoch:14\t Training Loss:1.964068\t Validation Loss: 2.089136\t Accuracy: 0.827501\n",
      "Epoch:15\t Training Loss:1.957120\t Validation Loss: 1.769859\t Accuracy: 0.857501\n",
      "Epoch:16\t Training Loss:1.942896\t Validation Loss: 1.599834\t Accuracy: 0.883334\n",
      "Validation loss decreased (1.669246 --> 1.599834).  Saving model ...\n",
      "----------------------------------------\n",
      "Epoch:17\t Training Loss:1.976761\t Validation Loss: 1.705113\t Accuracy: 0.862501\n",
      "Epoch:18\t Training Loss:1.935137\t Validation Loss: 2.087070\t Accuracy: 0.813335\n",
      "Epoch:19\t Training Loss:1.904286\t Validation Loss: 1.603555\t Accuracy: 0.873334\n",
      "Epoch:20\t Training Loss:1.994776\t Validation Loss: 1.786909\t Accuracy: 0.849168\n",
      "Epoch:21\t Training Loss:1.838605\t Validation Loss: 1.604724\t Accuracy: 0.877501\n",
      "Epoch:22\t Training Loss:1.897350\t Validation Loss: 1.602755\t Accuracy: 0.876668\n",
      "Epoch:23\t Training Loss:1.864494\t Validation Loss: 1.733086\t Accuracy: 0.852501\n",
      "Epoch:24\t Training Loss:1.893680\t Validation Loss: 1.580933\t Accuracy: 0.878334\n",
      "Validation loss decreased (1.599834 --> 1.580933).  Saving model ...\n",
      "----------------------------------------\n",
      "Epoch:25\t Training Loss:1.794369\t Validation Loss: 1.705442\t Accuracy: 0.855001\n",
      "Epoch:26\t Training Loss:1.761429\t Validation Loss: 1.634994\t Accuracy: 0.873334\n",
      "Epoch:27\t Training Loss:1.829574\t Validation Loss: 1.498393\t Accuracy: 0.889167\n",
      "Validation loss decreased (1.580933 --> 1.498393).  Saving model ...\n",
      "----------------------------------------\n",
      "Epoch:28\t Training Loss:1.789653\t Validation Loss: 1.553579\t Accuracy: 0.885001\n",
      "Epoch:29\t Training Loss:1.811365\t Validation Loss: 1.631143\t Accuracy: 0.882501\n",
      "Epoch:30\t Training Loss:1.721830\t Validation Loss: 1.557132\t Accuracy: 0.885001\n",
      "Epoch:31\t Training Loss:1.818078\t Validation Loss: 1.491475\t Accuracy: 0.890001\n",
      "Validation loss decreased (1.498393 --> 1.491475).  Saving model ...\n",
      "----------------------------------------\n",
      "Epoch:32\t Training Loss:1.781137\t Validation Loss: 1.720873\t Accuracy: 0.865834\n",
      "Epoch:33\t Training Loss:1.740495\t Validation Loss: 1.777303\t Accuracy: 0.847501\n",
      "Epoch    35: reducing learning rate of group 0 to 1.0000e-04.\n",
      "Epoch:34\t Training Loss:1.819593\t Validation Loss: 1.529741\t Accuracy: 0.870834\n",
      "Epoch:35\t Training Loss:1.707673\t Validation Loss: 1.502632\t Accuracy: 0.880834\n",
      "Epoch:36\t Training Loss:1.711238\t Validation Loss: 1.452973\t Accuracy: 0.890001\n",
      "Validation loss decreased (1.491475 --> 1.452973).  Saving model ...\n",
      "----------------------------------------\n",
      "Epoch:37\t Training Loss:1.765097\t Validation Loss: 1.462130\t Accuracy: 0.890834\n",
      "Epoch:38\t Training Loss:1.707268\t Validation Loss: 1.502547\t Accuracy: 0.884168\n",
      "Epoch:39\t Training Loss:1.685262\t Validation Loss: 1.457447\t Accuracy: 0.888334\n",
      "Epoch:40\t Training Loss:1.722171\t Validation Loss: 1.447350\t Accuracy: 0.886668\n",
      "Validation loss decreased (1.452973 --> 1.447350).  Saving model ...\n",
      "----------------------------------------\n",
      "Epoch:41\t Training Loss:1.682222\t Validation Loss: 1.480933\t Accuracy: 0.880001\n",
      "Epoch:42\t Training Loss:1.646706\t Validation Loss: 1.477163\t Accuracy: 0.884168\n",
      "Epoch:43\t Training Loss:1.696253\t Validation Loss: 1.473929\t Accuracy: 0.881667\n",
      "Epoch:44\t Training Loss:1.681038\t Validation Loss: 1.457717\t Accuracy: 0.891667\n",
      "Epoch:45\t Training Loss:1.669132\t Validation Loss: 1.472498\t Accuracy: 0.885834\n",
      "Epoch    47: reducing learning rate of group 0 to 1.0000e-05.\n",
      "Epoch:46\t Training Loss:1.666700\t Validation Loss: 1.452089\t Accuracy: 0.891667\n",
      "Epoch:47\t Training Loss:1.688794\t Validation Loss: 1.482577\t Accuracy: 0.883334\n",
      "Epoch:48\t Training Loss:1.713400\t Validation Loss: 1.474656\t Accuracy: 0.882501\n",
      "Epoch:49\t Training Loss:1.716961\t Validation Loss: 1.468098\t Accuracy: 0.880001\n",
      "Epoch    51: reducing learning rate of group 0 to 1.0000e-06.\n",
      "Epoch:50\t Training Loss:1.680207\t Validation Loss: 1.448874\t Accuracy: 0.888334\n",
      "Epoch:51\t Training Loss:1.703186\t Validation Loss: 1.547002\t Accuracy: 0.880834\n",
      "Epoch:52\t Training Loss:1.675040\t Validation Loss: 1.496920\t Accuracy: 0.885834\n",
      "Epoch:53\t Training Loss:1.677364\t Validation Loss: 1.458097\t Accuracy: 0.884167\n",
      "Epoch    55: reducing learning rate of group 0 to 1.0000e-07.\n",
      "Epoch:54\t Training Loss:1.650258\t Validation Loss: 1.458727\t Accuracy: 0.885834\n",
      "Epoch:55\t Training Loss:1.690909\t Validation Loss: 1.457984\t Accuracy: 0.885834\n",
      "Epoch:56\t Training Loss:1.659790\t Validation Loss: 1.481190\t Accuracy: 0.884167\n",
      "Epoch:57\t Training Loss:1.683283\t Validation Loss: 1.498219\t Accuracy: 0.882501\n",
      "Epoch    59: reducing learning rate of group 0 to 1.0000e-08.\n",
      "Epoch:58\t Training Loss:1.663113\t Validation Loss: 1.474207\t Accuracy: 0.885834\n",
      "Epoch:59\t Training Loss:1.658049\t Validation Loss: 1.466110\t Accuracy: 0.886667\n",
      "Epoch:60\t Training Loss:1.735978\t Validation Loss: 1.473953\t Accuracy: 0.885001\n",
      "Epoch:61\t Training Loss:1.640372\t Validation Loss: 1.462453\t Accuracy: 0.891667\n",
      "Epoch:62\t Training Loss:1.732213\t Validation Loss: 1.531464\t Accuracy: 0.880001\n",
      "Epoch:63\t Training Loss:1.662117\t Validation Loss: 1.468245\t Accuracy: 0.886667\n",
      "Epoch:64\t Training Loss:1.699855\t Validation Loss: 1.465227\t Accuracy: 0.886667\n",
      "Epoch:65\t Training Loss:1.741635\t Validation Loss: 1.509378\t Accuracy: 0.878334\n",
      "Epoch:66\t Training Loss:1.710368\t Validation Loss: 1.470195\t Accuracy: 0.885834\n",
      "Epoch:67\t Training Loss:1.621516\t Validation Loss: 1.465004\t Accuracy: 0.879168\n",
      "Epoch:68\t Training Loss:1.672898\t Validation Loss: 1.471063\t Accuracy: 0.879167\n",
      "Epoch:69\t Training Loss:1.711387\t Validation Loss: 1.457546\t Accuracy: 0.887501\n",
      "Epoch:70\t Training Loss:1.679930\t Validation Loss: 1.483614\t Accuracy: 0.887501\n",
      "Epoch:71\t Training Loss:1.722839\t Validation Loss: 1.449560\t Accuracy: 0.885001\n",
      "Epoch:72\t Training Loss:1.640561\t Validation Loss: 1.475493\t Accuracy: 0.883334\n",
      "Epoch:73\t Training Loss:1.647856\t Validation Loss: 1.458391\t Accuracy: 0.888334\n",
      "Epoch:74\t Training Loss:1.736384\t Validation Loss: 1.483997\t Accuracy: 0.879167\n",
      "Epoch:75\t Training Loss:1.743375\t Validation Loss: 1.490698\t Accuracy: 0.885834\n",
      "Epoch:76\t Training Loss:1.693375\t Validation Loss: 1.463266\t Accuracy: 0.883334\n",
      "Epoch:77\t Training Loss:1.707731\t Validation Loss: 1.463009\t Accuracy: 0.883334\n",
      "Epoch:78\t Training Loss:1.676732\t Validation Loss: 1.482549\t Accuracy: 0.881667\n",
      "Epoch:79\t Training Loss:1.619529\t Validation Loss: 1.483344\t Accuracy: 0.879167\n",
      "Epoch:80\t Training Loss:1.736817\t Validation Loss: 1.457693\t Accuracy: 0.886667\n"
     ]
    },
    {
     "name": "stdout",
     "output_type": "stream",
     "text": [
      "Epoch:81\t Training Loss:1.716791\t Validation Loss: 1.465530\t Accuracy: 0.887501\n",
      "Epoch:82\t Training Loss:1.707719\t Validation Loss: 1.454380\t Accuracy: 0.889168\n",
      "Epoch:83\t Training Loss:1.753211\t Validation Loss: 1.460699\t Accuracy: 0.885001\n",
      "Epoch:84\t Training Loss:1.660341\t Validation Loss: 1.457976\t Accuracy: 0.886667\n",
      "Epoch:85\t Training Loss:1.658403\t Validation Loss: 1.463453\t Accuracy: 0.887501\n",
      "Epoch:86\t Training Loss:1.664626\t Validation Loss: 1.459933\t Accuracy: 0.887501\n",
      "Epoch:87\t Training Loss:1.698479\t Validation Loss: 1.462127\t Accuracy: 0.885001\n",
      "Epoch:88\t Training Loss:1.717164\t Validation Loss: 1.487246\t Accuracy: 0.884168\n",
      "Epoch:89\t Training Loss:1.668588\t Validation Loss: 1.453148\t Accuracy: 0.886667\n",
      "Epoch:90\t Training Loss:1.638568\t Validation Loss: 1.461433\t Accuracy: 0.883334\n",
      "Epoch:91\t Training Loss:1.655569\t Validation Loss: 1.489808\t Accuracy: 0.885834\n",
      "Epoch:92\t Training Loss:1.676597\t Validation Loss: 1.463777\t Accuracy: 0.887501\n",
      "Epoch:93\t Training Loss:1.660619\t Validation Loss: 1.473922\t Accuracy: 0.884167\n",
      "Epoch:94\t Training Loss:1.660450\t Validation Loss: 1.477386\t Accuracy: 0.887501\n",
      "Epoch:95\t Training Loss:1.689161\t Validation Loss: 1.477065\t Accuracy: 0.886668\n",
      "Epoch:96\t Training Loss:1.672887\t Validation Loss: 1.490999\t Accuracy: 0.884167\n",
      "Epoch:97\t Training Loss:1.679303\t Validation Loss: 1.462315\t Accuracy: 0.885834\n",
      "Epoch:98\t Training Loss:1.649557\t Validation Loss: 1.454661\t Accuracy: 0.886667\n",
      "Epoch:99\t Training Loss:1.689938\t Validation Loss: 1.515796\t Accuracy: 0.879167\n",
      "Epoch:100\t Training Loss:1.715474\t Validation Loss: 1.550255\t Accuracy: 0.878334\n",
      "Epoch:101\t Training Loss:1.749012\t Validation Loss: 1.495468\t Accuracy: 0.882501\n",
      "Epoch:102\t Training Loss:1.661887\t Validation Loss: 1.487526\t Accuracy: 0.885834\n",
      "Epoch:103\t Training Loss:1.659826\t Validation Loss: 1.468825\t Accuracy: 0.882501\n",
      "Epoch:104\t Training Loss:1.698570\t Validation Loss: 1.468805\t Accuracy: 0.888334\n",
      "Epoch:105\t Training Loss:1.631066\t Validation Loss: 1.459169\t Accuracy: 0.885001\n",
      "Epoch:106\t Training Loss:1.715074\t Validation Loss: 1.464608\t Accuracy: 0.887501\n",
      "Epoch:107\t Training Loss:1.627172\t Validation Loss: 1.478632\t Accuracy: 0.885834\n",
      "Epoch:108\t Training Loss:1.643427\t Validation Loss: 1.466455\t Accuracy: 0.883334\n",
      "Epoch:109\t Training Loss:1.674206\t Validation Loss: 1.458964\t Accuracy: 0.883334\n",
      "Epoch:110\t Training Loss:1.689493\t Validation Loss: 1.462342\t Accuracy: 0.887501\n",
      "Epoch:111\t Training Loss:1.650960\t Validation Loss: 1.484999\t Accuracy: 0.882501\n",
      "Epoch:112\t Training Loss:1.652362\t Validation Loss: 1.489609\t Accuracy: 0.885001\n",
      "Epoch:113\t Training Loss:1.719952\t Validation Loss: 1.490588\t Accuracy: 0.878334\n",
      "Epoch:114\t Training Loss:1.621505\t Validation Loss: 1.518997\t Accuracy: 0.881667\n",
      "Epoch:115\t Training Loss:1.654778\t Validation Loss: 1.453287\t Accuracy: 0.890001\n",
      "Epoch:116\t Training Loss:1.692391\t Validation Loss: 1.472090\t Accuracy: 0.885834\n",
      "Epoch:117\t Training Loss:1.650771\t Validation Loss: 1.466184\t Accuracy: 0.886667\n",
      "Epoch:118\t Training Loss:1.662206\t Validation Loss: 1.458233\t Accuracy: 0.885001\n",
      "Epoch:119\t Training Loss:1.698325\t Validation Loss: 1.465178\t Accuracy: 0.888334\n",
      "Epoch:120\t Training Loss:1.739879\t Validation Loss: 1.471488\t Accuracy: 0.885001\n",
      "Epoch:121\t Training Loss:1.659201\t Validation Loss: 1.453090\t Accuracy: 0.888334\n",
      "Epoch:122\t Training Loss:1.674588\t Validation Loss: 1.520049\t Accuracy: 0.880834\n",
      "Epoch:123\t Training Loss:1.683896\t Validation Loss: 1.440257\t Accuracy: 0.890001\n",
      "Validation loss decreased (1.447350 --> 1.440257).  Saving model ...\n",
      "----------------------------------------\n",
      "Epoch:124\t Training Loss:1.680921\t Validation Loss: 1.495769\t Accuracy: 0.883334\n",
      "Epoch:125\t Training Loss:1.677138\t Validation Loss: 1.486529\t Accuracy: 0.885834\n",
      "Epoch:126\t Training Loss:1.703389\t Validation Loss: 1.454378\t Accuracy: 0.887501\n",
      "Epoch:127\t Training Loss:1.677036\t Validation Loss: 1.499892\t Accuracy: 0.885001\n",
      "Epoch:128\t Training Loss:1.692451\t Validation Loss: 1.481613\t Accuracy: 0.885001\n",
      "Epoch:129\t Training Loss:1.736617\t Validation Loss: 1.464399\t Accuracy: 0.886668\n",
      "Epoch:130\t Training Loss:1.699539\t Validation Loss: 1.451081\t Accuracy: 0.889168\n",
      "Epoch:131\t Training Loss:1.716104\t Validation Loss: 1.472608\t Accuracy: 0.883334\n",
      "Epoch:132\t Training Loss:1.653730\t Validation Loss: 1.479075\t Accuracy: 0.882501\n",
      "Epoch:133\t Training Loss:1.670883\t Validation Loss: 1.456525\t Accuracy: 0.886668\n",
      "Epoch:134\t Training Loss:1.638249\t Validation Loss: 1.456051\t Accuracy: 0.885001\n",
      "Epoch:135\t Training Loss:1.746271\t Validation Loss: 1.452044\t Accuracy: 0.885001\n",
      "Epoch:136\t Training Loss:1.703158\t Validation Loss: 1.445676\t Accuracy: 0.890001\n",
      "Epoch:137\t Training Loss:1.634205\t Validation Loss: 1.455400\t Accuracy: 0.888334\n",
      "Epoch:138\t Training Loss:1.609662\t Validation Loss: 1.467084\t Accuracy: 0.886668\n",
      "Epoch:139\t Training Loss:1.658518\t Validation Loss: 1.446931\t Accuracy: 0.886667\n",
      "Epoch:140\t Training Loss:1.647691\t Validation Loss: 1.481919\t Accuracy: 0.884168\n",
      "Epoch:141\t Training Loss:1.704272\t Validation Loss: 1.454466\t Accuracy: 0.886667\n",
      "Epoch:142\t Training Loss:1.716067\t Validation Loss: 1.465051\t Accuracy: 0.886667\n",
      "Epoch:143\t Training Loss:1.677079\t Validation Loss: 1.460895\t Accuracy: 0.886668\n",
      "Epoch:144\t Training Loss:1.705408\t Validation Loss: 1.470602\t Accuracy: 0.885001\n",
      "Epoch:145\t Training Loss:1.630754\t Validation Loss: 1.462429\t Accuracy: 0.889167\n",
      "Epoch:146\t Training Loss:1.645378\t Validation Loss: 1.464655\t Accuracy: 0.884168\n",
      "Epoch:147\t Training Loss:1.670307\t Validation Loss: 1.479197\t Accuracy: 0.887501\n",
      "Epoch:148\t Training Loss:1.718662\t Validation Loss: 1.466567\t Accuracy: 0.885834\n",
      "Epoch:149\t Training Loss:1.686044\t Validation Loss: 1.458794\t Accuracy: 0.891667\n",
      "Epoch:150\t Training Loss:1.673638\t Validation Loss: 1.454574\t Accuracy: 0.886667\n",
      "Epoch:151\t Training Loss:1.703824\t Validation Loss: 1.487373\t Accuracy: 0.885001\n",
      "Epoch:152\t Training Loss:1.721029\t Validation Loss: 1.461821\t Accuracy: 0.888334\n",
      "Epoch:153\t Training Loss:1.670146\t Validation Loss: 1.468776\t Accuracy: 0.887501\n",
      "Epoch:154\t Training Loss:1.643300\t Validation Loss: 1.452331\t Accuracy: 0.889167\n",
      "Epoch:155\t Training Loss:1.704267\t Validation Loss: 1.459066\t Accuracy: 0.880001\n",
      "Epoch:156\t Training Loss:1.624067\t Validation Loss: 1.463113\t Accuracy: 0.886667\n",
      "Epoch:157\t Training Loss:1.705116\t Validation Loss: 1.463103\t Accuracy: 0.885001\n",
      "Epoch:158\t Training Loss:1.696279\t Validation Loss: 1.469896\t Accuracy: 0.885834\n",
      "Epoch:159\t Training Loss:1.678125\t Validation Loss: 1.478618\t Accuracy: 0.883334\n",
      "Epoch:160\t Training Loss:1.662453\t Validation Loss: 1.463195\t Accuracy: 0.885834\n",
      "Epoch:161\t Training Loss:1.675029\t Validation Loss: 1.471931\t Accuracy: 0.889167\n",
      "Epoch:162\t Training Loss:1.662263\t Validation Loss: 1.510358\t Accuracy: 0.880834\n",
      "Epoch:163\t Training Loss:1.680289\t Validation Loss: 1.465769\t Accuracy: 0.884167\n",
      "Epoch:164\t Training Loss:1.656539\t Validation Loss: 1.463530\t Accuracy: 0.887501\n",
      "Epoch:165\t Training Loss:1.693873\t Validation Loss: 1.469989\t Accuracy: 0.883334\n",
      "Epoch:166\t Training Loss:1.736155\t Validation Loss: 1.449234\t Accuracy: 0.890001\n",
      "Epoch:167\t Training Loss:1.672782\t Validation Loss: 1.471277\t Accuracy: 0.889167\n",
      "Epoch:168\t Training Loss:1.670652\t Validation Loss: 1.494312\t Accuracy: 0.877501\n",
      "Epoch:169\t Training Loss:1.681695\t Validation Loss: 1.457094\t Accuracy: 0.888334\n",
      "Epoch:170\t Training Loss:1.678261\t Validation Loss: 1.465245\t Accuracy: 0.888334\n",
      "Epoch:171\t Training Loss:1.662734\t Validation Loss: 1.457228\t Accuracy: 0.883334\n",
      "Epoch:172\t Training Loss:1.769523\t Validation Loss: 1.519024\t Accuracy: 0.879167\n",
      "Epoch:173\t Training Loss:1.725931\t Validation Loss: 1.462018\t Accuracy: 0.885001\n",
      "Epoch:174\t Training Loss:1.667173\t Validation Loss: 1.454706\t Accuracy: 0.886667\n",
      "Epoch:175\t Training Loss:1.695110\t Validation Loss: 1.461511\t Accuracy: 0.889167\n",
      "Epoch:176\t Training Loss:1.694506\t Validation Loss: 1.475436\t Accuracy: 0.885001\n",
      "Epoch:177\t Training Loss:1.680169\t Validation Loss: 1.467049\t Accuracy: 0.887501\n",
      "Epoch:178\t Training Loss:1.662101\t Validation Loss: 1.461526\t Accuracy: 0.886668\n"
     ]
    }
   ],
   "source": [
    "n_epochs = 200\n",
    "valid_loss_min = np.Inf\n",
    "train_losses, valid_losses = [], []\n",
    "\n",
    "for epoch in range(n_epochs):\n",
    "    # Define Constants\n",
    "    train_loss = 0.0\n",
    "    valid_loss = 0.0\n",
    "    accuracy = 0.0\n",
    "    epoch_loss = []\n",
    "   \n",
    "    for data, target in trainloader:\n",
    "        # Put data on GPU\n",
    "        data, target = data.to(device, dtype=torch.float), target.to(device, dtype=torch.long)\n",
    "        optimizer.zero_grad()\n",
    "        output = model(data)\n",
    "        # Compute loss\n",
    "        loss = criterion(output, target)\n",
    "        loss.backward()\n",
    "        optimizer.step()\n",
    "        epoch_loss.append(float(loss.item()*data.size(0)))\n",
    "        train_loss += loss.item()*data.size(0)\n",
    "    \n",
    "    # Check if learning rate needs to be updated\n",
    "    scheduler.step(np.mean(epoch_loss))\n",
    "    with torch.no_grad():\n",
    "        model.eval() # Turn dropout off\n",
    "        for data, target in validloader:\n",
    "            data, target = data.to(device, dtype=torch.float), target.to(device, dtype=torch.long)\n",
    "            output = model(data)\n",
    "            loss = criterion(output, target)\n",
    "            valid_loss += loss.item()*data.size(0)\n",
    "            # Calculating accuracy\n",
    "            ps = torch.exp(F.log_softmax(output, dim=1))\n",
    "            top_p, top_class = ps.topk(1, dim=1)\n",
    "            equals = top_class == target.view(*top_class.shape)\n",
    "            accuracy += torch.mean(equals.type(torch.FloatTensor))\n",
    "            \n",
    "    model.train()\n",
    "    # Calculate average loss and accuracy\n",
    "    train_loss = train_loss/len(trainloader)\n",
    "    valid_loss = valid_loss/len(validloader)\n",
    "    accuracy = accuracy/len(validloader)\n",
    "    train_losses.append(train_loss)\n",
    "    valid_losses.append(valid_loss)\n",
    "    \n",
    "    print(\"Epoch:{}\\t Training Loss:{:.6f}\\t Validation Loss: {:.6f}\\t Accuracy: {:.6f}\".format(epoch, train_loss, valid_loss, accuracy))\n",
    "    # Save model if validation loss has decreased\n",
    "    if valid_loss <= valid_loss_min:\n",
    "        print(\"Validation loss decreased ({:.6f} --> {:.6f}).  Saving model ...\".format(valid_loss_min, valid_loss))\n",
    "        print(\"-\"*40)\n",
    "        # Save model\n",
    "        torch.save(model.state_dict(), 'model_checkpoints/resnet18_model_2Class_normal_abnormal_imgNet_Weights.pth')\n",
    "        valid_loss_min = valid_loss"
   ]
  },
  {
   "cell_type": "code",
   "execution_count": 5,
   "metadata": {},
   "outputs": [
    {
     "data": {
      "text/plain": [
       "<matplotlib.legend.Legend at 0x1bdf84d4848>"
      ]
     },
     "execution_count": 5,
     "metadata": {},
     "output_type": "execute_result"
    },
    {
     "data": {
      "image/png": "[encoded data removed]",
      "text/plain": [
       "<Figure size 432x288 with 1 Axes>"
      ]
     },
     "metadata": {
      "needs_background": "light"
     },
     "output_type": "display_data"
    }
   ],
   "source": [
    "plt.plot(train_losses, label='Training loss')\n",
    "plt.plot(valid_losses, label='Validation loss')\n",
    "plt.scatter(123, 1.440257, c='red', label='Model stopping point')\n",
    "plt.legend(frameon=False)\n",
    "plt.savefig('resnet18_2Class_loss_normal_abnormal.png')"
   ]
  },
  {
   "cell_type": "markdown",
   "metadata": {},
   "source": [
    "### Make Predictions"
   ]
  },
  {
   "cell_type": "code",
   "execution_count": 12,
   "metadata": {},
   "outputs": [
    {
     "data": {
      "text/plain": [
       "<All keys matched successfully>"
      ]
     },
     "execution_count": 12,
     "metadata": {},
     "output_type": "execute_result"
    }
   ],
   "source": [
    "# Load weights to model\n",
    "weights = torch.load('resnet18_model_2Class_normal_abnormal_imgNet_Weights.pth')\n",
    "model.load_state_dict(weights)"
   ]
  },
  {
   "cell_type": "code",
   "execution_count": 13,
   "metadata": {},
   "outputs": [],
   "source": [
    "final_predicted_array = []\n",
    "groundTruth = []\n",
    "\n",
    "# Evaluation mode\n",
    "with torch.no_grad():\n",
    "    model.eval()\n",
    "    for data, target in validloader:\n",
    "        data, target = data.to(device, dtype=torch.float), target.to(device, dtype=torch.long)\n",
    "        groundTruth.extend(target.data.cpu().numpy())\n",
    "        output = model(data)\n",
    "        ps = torch.exp(F.log_softmax(output, dim=1))\n",
    "        top_p, top_class = ps.topk(1, dim=1)\n",
    "        final_predicted_array.extend(top_class.data.cpu().numpy())"
   ]
  },
  {
   "cell_type": "code",
   "execution_count": 14,
   "metadata": {},
   "outputs": [
    {
     "name": "stdout",
     "output_type": "stream",
     "text": [
      "              precision    recall  f1-score   support\n",
      "\n",
      "      Normal       0.88      0.91      0.89       613\n",
      "    Abnormal       0.91      0.87      0.89       587\n",
      "\n",
      "    accuracy                           0.89      1200\n",
      "   macro avg       0.89      0.89      0.89      1200\n",
      "weighted avg       0.89      0.89      0.89      1200\n",
      "\n"
     ]
    }
   ],
   "source": [
    "target_names = [\"Normal\", \"Abnormal\"]\n",
    "print(classification_report(groundTruth, final_predicted_array, target_names=target_names))"
   ]
  },
  {
   "cell_type": "code",
   "execution_count": 15,
   "metadata": {},
   "outputs": [
    {
     "name": "stdout",
     "output_type": "stream",
     "text": [
      "AUC on Test Set: 0.8894786719321014\n"
     ]
    }
   ],
   "source": [
    "fpr, tpr, thresholds = roc_curve(groundTruth, final_predicted_array)\n",
    "auc = roc_auc_score(groundTruth, final_predicted_array)\n",
    "print(\"AUC on Test Set:\",auc)"
   ]
  },
  {
   "cell_type": "code",
   "execution_count": 16,
   "metadata": {},
   "outputs": [
    {
     "data": {
      "image/png": "[encoded data removed]",
      "text/plain": [
       "<Figure size 360x360 with 1 Axes>"
      ]
     },
     "metadata": {},
     "output_type": "display_data"
    },
    {
     "data": {
      "text/plain": [
       "<Figure size 432x288 with 0 Axes>"
      ]
     },
     "metadata": {},
     "output_type": "display_data"
    }
   ],
   "source": [
    "from plot_metric.functions import BinaryClassification\n",
    "bc = BinaryClassification(groundTruth, final_predicted_array, labels=[\"Pneumonia\", \"Covid\"])\n",
    "\n",
    "plt.figure(figsize=(5,5))\n",
    "bc.plot_roc_curve()\n",
    "plt.show()\n",
    "plt.savefig('normal_abnormal_resent18roc.png')"
   ]
  }
 ],
 "metadata": {
  "kernelspec": {
   "display_name": "Python 3",
   "language": "python",
   "name": "python3"
  },
  "language_info": {
   "codemirror_mode": {
    "name": "ipython",
    "version": 3
   },
   "file_extension": ".py",
   "mimetype": "text/x-python",
   "name": "python",
   "nbconvert_exporter": "python",
   "pygments_lexer": "ipython3",
   "version": "3.7.4"
  }
 },
 "nbformat": 4,
 "nbformat_minor": 2
}
